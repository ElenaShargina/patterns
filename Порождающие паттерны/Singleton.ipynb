{
  "nbformat": 4,
  "nbformat_minor": 0,
  "metadata": {
    "colab": {
      "provenance": [],
      "toc_visible": true,
      "authorship_tag": "ABX9TyPc5lDDZHwCZsdQCr6yg5MM",
      "include_colab_link": true
    },
    "kernelspec": {
      "name": "python3",
      "display_name": "Python 3"
    },
    "language_info": {
      "name": "python"
    }
  },
  "cells": [
    {
      "cell_type": "markdown",
      "metadata": {
        "id": "view-in-github",
        "colab_type": "text"
      },
      "source": [
        "<a href=\"https://colab.research.google.com/github/ElenaShargina/patterns/blob/master/%D0%9F%D0%BE%D1%80%D0%BE%D0%B6%D0%B4%D0%B0%D1%8E%D1%89%D0%B8%D0%B5%20%D0%BF%D0%B0%D1%82%D1%82%D0%B5%D1%80%D0%BD%D1%8B/Singleton.ipynb\" target=\"_parent\"><img src=\"https://colab.research.google.com/assets/colab-badge.svg\" alt=\"Open In Colab\"/></a>"
      ]
    },
    {
      "cell_type": "markdown",
      "source": [
        "# Singleton / Одиночка\n",
        "Паттерн гарантирует, что у класса будет только один экземпляр и предоставляет к нему глобальную точку доступа."
      ],
      "metadata": {
        "id": "7WFCSVFCA0D2"
      }
    },
    {
      "cell_type": "markdown",
      "source": [
        "## Инстанцируемый класс\n",
        "Определим некоторый класс, который будем инстанцировать с помощью паттерна Singleton."
      ],
      "metadata": {
        "id": "Y1Ey2ydPApc_"
      }
    },
    {
      "cell_type": "code",
      "source": [
        "class Figure:\n",
        "    def __init__(self):\n",
        "        self.height = 0\n",
        "        self.width = 0\n",
        "\n",
        "    def square(self):\n",
        "        return self.width*self.height\n",
        "\n",
        "    def get_info(self):\n",
        "        # проверка по id, что экземпляр будет одним и тем же.\n",
        "        print( f'ID экземпляра: {id(self)}')\n",
        "        # проверка содержимого экемпляра.\n",
        "        print(f' Атрибуты экземпляра: {self.__dict__}')"
      ],
      "metadata": {
        "id": "sxt0eE_FAoKH"
      },
      "execution_count": null,
      "outputs": []
    },
    {
      "cell_type": "markdown",
      "source": [
        "## Способы реализации паттерна\n",
        "### Реализация через метод класса"
      ],
      "metadata": {
        "id": "LPoelmGICF53"
      }
    },
    {
      "cell_type": "markdown",
      "source": [
        "<img src='http://feana.ru/wp-content/uploads/2023/05/singleton-method-class.png'/>"
      ],
      "metadata": {
        "id": "76EHNcCXK58H"
      }
    },
    {
      "cell_type": "code",
      "source": [
        "# реализация через метод класса\n",
        "class SingleCls:\n",
        "    _instance = 0\n",
        "    @classmethod\n",
        "    def instance(cls):\n",
        "        if cls._instance == 0:\n",
        "            cls.object = Figure()\n",
        "            cls._instance = 1\n",
        "        return cls.object\n",
        "\n",
        "  # применение\n",
        "s1 = SingleCls.instance()\n",
        "s1.get_info()\n",
        "s2 = SingleCls.instance()\n",
        "s2.get_info()\n",
        "s2.height = 10\n",
        "# убеждаемся, что это один и тот же экземпляр\n",
        "s1.get_info()"
      ],
      "metadata": {
        "colab": {
          "base_uri": "https://localhost:8080/"
        },
        "id": "P4uMe6zGCvTA",
        "outputId": "07505ebf-cd8b-45fa-e1d8-b0e0e16ffa70"
      },
      "execution_count": null,
      "outputs": [
        {
          "output_type": "stream",
          "name": "stdout",
          "text": [
            "ID экземпляра: 140284654802384\n",
            " Атрибуты экземпляра: {'height': 0, 'width': 0}\n",
            "ID экземпляра: 140284654802384\n",
            " Атрибуты экземпляра: {'height': 0, 'width': 0}\n",
            "ID экземпляра: 140284654802384\n",
            " Атрибуты экземпляра: {'height': 10, 'width': 0}\n"
          ]
        }
      ]
    },
    {
      "cell_type": "markdown",
      "source": [
        "### Реализация через метод объекта"
      ],
      "metadata": {
        "id": "WZhhkaQzECQ6"
      }
    },
    {
      "cell_type": "code",
      "source": [
        "class SingleObj:\n",
        "    _instance = 0\n",
        "\n",
        "    def instance(self):\n",
        "        if SingleObj._instance == 0:\n",
        "            SingleObj.object = Figure()\n",
        "            SingleObj._instance = 1\n",
        "        return SingleObj.object\n",
        "\n",
        "# применение\n",
        "s3 = SingleObj().instance()\n",
        "s3.get_info()\n",
        "s4 = SingleObj().instance()\n",
        "s4.get_info()\n",
        "s3.height = 10\n",
        "# убеждаемся, что это один и тот же экземпляр\n",
        "s4.get_info()"
      ],
      "metadata": {
        "colab": {
          "base_uri": "https://localhost:8080/"
        },
        "id": "t_SpUFJTEttP",
        "outputId": "bb719fbb-3f3a-413d-ce15-fe66fb4bee67"
      },
      "execution_count": null,
      "outputs": [
        {
          "output_type": "stream",
          "name": "stdout",
          "text": [
            "ID экземпляра: 140284654804736\n",
            " Атрибуты экземпляра: {'height': 0, 'width': 0}\n",
            "ID экземпляра: 140284654804736\n",
            " Атрибуты экземпляра: {'height': 0, 'width': 0}\n",
            "ID экземпляра: 140284654804736\n",
            " Атрибуты экземпляра: {'height': 10, 'width': 0}\n"
          ]
        }
      ]
    },
    {
      "cell_type": "markdown",
      "source": [
        "### Реализация через статический метод класса"
      ],
      "metadata": {
        "id": "6Zj7W2EdFpcb"
      }
    },
    {
      "cell_type": "code",
      "execution_count": null,
      "metadata": {
        "colab": {
          "base_uri": "https://localhost:8080/"
        },
        "id": "xGTvOVMb_vCj",
        "outputId": "401e0111-1dab-4265-8a4d-4dc5abbbf98e"
      },
      "outputs": [
        {
          "output_type": "stream",
          "name": "stdout",
          "text": [
            "ID экземпляра: 140284654797536\n",
            " Атрибуты экземпляра: {'height': 0, 'width': 0}\n",
            "ID экземпляра: 140284654797536\n",
            " Атрибуты экземпляра: {'height': 0, 'width': 0}\n",
            "ID экземпляра: 140284654797536\n",
            " Атрибуты экземпляра: {'height': 10, 'width': 0}\n"
          ]
        }
      ],
      "source": [
        "class SingleStat:\n",
        "    _instance = 0\n",
        "    @staticmethod\n",
        "    def instance():\n",
        "        if SingleStat._instance == 0:\n",
        "            SingleStat.object = Figure()\n",
        "            SingleStat._instance = 1\n",
        "        return SingleStat.object\n",
        "# применение \n",
        "s5 = SingleStat.instance()\n",
        "s5.get_info()\n",
        "s6 = SingleStat.instance()\n",
        "s6.get_info()\n",
        "s5.height = 10\n",
        "# убеждаемся, что это один и тот же экземпляр\n",
        "s6.get_info()\n"
      ]
    }
  ]
}