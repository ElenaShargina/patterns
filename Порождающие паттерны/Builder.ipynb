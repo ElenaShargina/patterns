{
  "nbformat": 4,
  "nbformat_minor": 0,
  "metadata": {
    "colab": {
      "provenance": [],
      "authorship_tag": "ABX9TyM4tKaE9hjCssRNGOUQoVp7",
      "include_colab_link": true
    },
    "kernelspec": {
      "name": "python3",
      "display_name": "Python 3"
    },
    "language_info": {
      "name": "python"
    }
  },
  "cells": [
    {
      "cell_type": "markdown",
      "metadata": {
        "id": "view-in-github",
        "colab_type": "text"
      },
      "source": [
        "<a href=\"https://colab.research.google.com/github/ElenaShargina/patterns/blob/master/%D0%9F%D0%BE%D1%80%D0%BE%D0%B6%D0%B4%D0%B0%D1%8E%D1%89%D0%B8%D0%B5%20%D0%BF%D0%B0%D1%82%D1%82%D0%B5%D1%80%D0%BD%D1%8B/Builder.ipynb\" target=\"_parent\"><img src=\"https://colab.research.google.com/assets/colab-badge.svg\" alt=\"Open In Colab\"/></a>"
      ]
    },
    {
      "cell_type": "markdown",
      "source": [
        "# Builder / Строитель\n",
        "Паттерн применяется когда\n",
        "- алгоритм создания сложного объекта не должен зависеть от того, из каких частей состоит объект и как они стыкаются между собой,\n",
        "- процесс конструирования должен обеспечивать различные представления конструируемого объекта"
      ],
      "metadata": {
        "id": "N_c-tvm7Wx4i"
      }
    },
    {
      "cell_type": "markdown",
      "source": [
        "<img src='http://feana.ru/wp-content/uploads/2023/05/builder.png' />"
      ],
      "metadata": {
        "id": "svv91VVFLdLt"
      }
    },
    {
      "cell_type": "markdown",
      "source": [
        "## Продукты - хлеб и кофе"
      ],
      "metadata": {
        "id": "0CXxmDu_Xaf4"
      }
    },
    {
      "cell_type": "code",
      "execution_count": null,
      "metadata": {
        "id": "t7ZBb0BLWH9k"
      },
      "outputs": [],
      "source": [
        "class Product:\n",
        "      def __repr__(self):\n",
        "        return str(self.__class__)+str(self.__dict__)\n",
        "\n",
        "\"\"\"\n",
        "Продукт хлеб\n",
        "\"\"\"\n",
        "class Bread(Product):\n",
        "    def __init__(self):\n",
        "        self.flour = ''\n",
        "        self.salt = ''\n",
        "        self.additives = ''\n",
        "\n",
        "\"\"\"\n",
        "другой продукт - кофе, отличающийся от хлеба дополнительным методом\n",
        "\"\"\"\n",
        "class Coffee(Product):\n",
        "    def __init__(self):\n",
        "        self.grain = ''\n",
        "        self.sugar = ''\n",
        "\n",
        "    def add_sugar(self):\n",
        "        self.sugar = 'Больше сахара'"
      ]
    },
    {
      "cell_type": "markdown",
      "source": [
        "## Пекарь - распорядитель действий билдера"
      ],
      "metadata": {
        "id": "22Ph450sXoWF"
      }
    },
    {
      "cell_type": "code",
      "source": [
        "\"\"\"\n",
        "Пекарь, распорядитель действий билдера\n",
        "\"\"\"\n",
        "class Baker:\n",
        "    def doit(self,builder):\n",
        "        builder.create_product()\n",
        "        builder.set_salt()\n",
        "        builder.set_flour()\n",
        "        builder.set_additives()\n",
        "        builder.set_sugar()\n",
        "        builder.set_grain()\n",
        "        return builder.product"
      ],
      "metadata": {
        "id": "VubVUi7QX3lh"
      },
      "execution_count": null,
      "outputs": []
    },
    {
      "cell_type": "markdown",
      "source": [
        "## Абстрактный билдер и его реализации для конкретных продуктов"
      ],
      "metadata": {
        "id": "8QC4JL7DX9IR"
      }
    },
    {
      "cell_type": "code",
      "source": [
        "\"\"\"\n",
        "Абстрактный билдер продукта, включающий все возможные ингредиенты (и для хлеба, и для кофе)\n",
        "\"\"\"\n",
        "class Builder:\n",
        "    def create_product(self):\n",
        "        pass\n",
        "    def set_flour(self):\n",
        "        pass\n",
        "    def set_salt(self):\n",
        "        pass\n",
        "    def set_additives(self):\n",
        "        pass\n",
        "    def set_grain(self):\n",
        "        pass\n",
        "    def set_sugar(self):\n",
        "        pass\n",
        "\"\"\"\n",
        "Билдер продукта \"Хлеб\"\n",
        "\"\"\"\n",
        "class BreadBuilder(Builder):\n",
        "     def create_product(self):\n",
        "        self.product = Bread()\n",
        "\"\"\"\n",
        "Билдер белого хлеба\n",
        "\"\"\"\n",
        "class WhiteBreadBuilder(BreadBuilder):\n",
        "    def set_flour(self):\n",
        "        self.product.flour = 'Пшеничная мука'\n",
        "    def set_additives(self):\n",
        "        self.product.additives = 'Улучшители вкуса для белого хлеба'\n",
        "\"\"\"\n",
        "Билдер ржаного хлеба\n",
        "\"\"\"\n",
        "class RyeBreadBuilder(BreadBuilder):\n",
        "    def set_flour(self):\n",
        "        self.product.flour = 'Ржаная мука'\n",
        "    def set_salt(self):\n",
        "        self.product.salt = 'Соль'\n",
        "    def set_additives(self):\n",
        "        self.product.additives = 'Изюм'\n",
        "\"\"\"\n",
        "Билдер кофе\n",
        "\"\"\"\n",
        "class CoffeeBuilder(Builder):\n",
        "    def create_product(self):\n",
        "        self.product = Coffee()\n",
        "\"\"\"\n",
        "Билдер арабики\n",
        "\"\"\"\n",
        "class CoffeeArabicaBuilder(CoffeeBuilder):\n",
        "    def set_grain(self):\n",
        "        self.product.grain = 'Арабика'\n",
        "    def set_sugar(self):\n",
        "        self.product.sugar = 'Немного сахара'\n"
      ],
      "metadata": {
        "id": "5dsNwqBQYDmq"
      },
      "execution_count": null,
      "outputs": []
    },
    {
      "cell_type": "markdown",
      "source": [
        "## Применение билдера"
      ],
      "metadata": {
        "id": "m9R6wsaDY0uG"
      }
    },
    {
      "cell_type": "code",
      "source": [
        "\"\"\"\n",
        "Клиент, дающий заказ распорядителю/director (пекарю) на сбор продукта (хлеба или кофе)\n",
        "\"\"\"\n",
        "\n",
        "b = Baker()\n",
        "p1 = b.doit(WhiteBreadBuilder())\n",
        "print(p1)\n",
        "p2 = b.doit(RyeBreadBuilder())\n",
        "print(p2)\n",
        "c1 = b.doit(CoffeeArabicaBuilder())\n",
        "print(c1)\n",
        "# подразумевается, что клиент знает, что он заказывает у распорядителя\n",
        "# и поэтому знает о том, как обращаться с полученным продуктом - в кофе можно \n",
        "# добавить сахар\n",
        "c1.add_sugar()\n",
        "print(c1)"
      ],
      "metadata": {
        "colab": {
          "base_uri": "https://localhost:8080/"
        },
        "id": "CiWUpjgWY4Cq",
        "outputId": "dccf44db-7eec-4e1a-e671-ab7103c726d9"
      },
      "execution_count": null,
      "outputs": [
        {
          "output_type": "stream",
          "name": "stdout",
          "text": [
            "<class '__main__.Bread'>{'flour': 'Пшеничная мука', 'salt': '', 'additives': 'Улучшители вкуса для белого хлеба'}\n",
            "<class '__main__.Bread'>{'flour': 'Ржаная мука', 'salt': 'Соль', 'additives': 'Изюм'}\n",
            "<class '__main__.Coffee'>{'grain': 'Арабика', 'sugar': 'Немного сахара'}\n",
            "<class '__main__.Coffee'>{'grain': 'Арабика', 'sugar': 'Больше сахара'}\n"
          ]
        }
      ]
    }
  ]
}