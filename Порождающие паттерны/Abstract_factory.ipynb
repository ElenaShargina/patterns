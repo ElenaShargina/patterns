{
  "nbformat": 4,
  "nbformat_minor": 0,
  "metadata": {
    "colab": {
      "provenance": [],
      "authorship_tag": "ABX9TyMziegtNbJLNL2FvVrBFdNu",
      "include_colab_link": true
    },
    "kernelspec": {
      "name": "python3",
      "display_name": "Python 3"
    },
    "language_info": {
      "name": "python"
    }
  },
  "cells": [
    {
      "cell_type": "markdown",
      "metadata": {
        "id": "view-in-github",
        "colab_type": "text"
      },
      "source": [
        "<a href=\"https://colab.research.google.com/github/ElenaShargina/patterns/blob/master/%D0%9F%D0%BE%D1%80%D0%BE%D0%B6%D0%B4%D0%B0%D1%8E%D1%89%D0%B8%D0%B5%20%D0%BF%D0%B0%D1%82%D1%82%D0%B5%D1%80%D0%BD%D1%8B/Abstract_factory.ipynb\" target=\"_parent\"><img src=\"https://colab.research.google.com/assets/colab-badge.svg\" alt=\"Open In Colab\"/></a>"
      ]
    },
    {
      "cell_type": "markdown",
      "source": [
        "# Abstract factory / Абстрактная фабрика\n",
        "Предоставляет интерфейс для содания семейств взаимосвязанных объектов, не специфицируя их конкретных классов."
      ],
      "metadata": {
        "id": "SXti93PLPnQj"
      }
    },
    {
      "cell_type": "markdown",
      "source": [
        "## Абстрактный \"интерфейс\" продукта фабрики и абстрактная фабрика\n",
        "Продуктом нашей фабрики будет Лабиринт. "
      ],
      "metadata": {
        "id": "LGh9hWneQRCp"
      }
    },
    {
      "cell_type": "markdown",
      "source": [
        "<img src='http://feana.ru/wp-content/uploads/2023/05/abstract_factory.png'/>"
      ],
      "metadata": {
        "id": "rKaONYigLOA1"
      }
    },
    {
      "cell_type": "code",
      "execution_count": null,
      "metadata": {
        "id": "40FyEQswPBpi"
      },
      "outputs": [],
      "source": [
        "from abc import ABC\n",
        "from random import Random\n",
        "\"\"\"\n",
        "абстрактный интерфейс для продукта фабрики - лабиринта\n",
        "\"\"\"\n",
        "class AbstractMaze(ABC):\n",
        "    def draw(self):\n",
        "        pass\n",
        "    def add_room(self, r):\n",
        "        pass\n",
        "    def add_door(self,r1,r2):\n",
        "        pass\n",
        "\"\"\"\n",
        "абстрактная фабрика для изготовления лабиринтов вне зависимости от их реализации,\n",
        "главное, чтобы их продукт удовлетворял интерфейсу абстрактного продукта\n",
        "\"\"\"\n",
        "class MazeFactory (ABC):\n",
        "    def make_maze(self):\n",
        "        pass\n",
        "    def make_room(self):\n",
        "        pass"
      ]
    },
    {
      "cell_type": "markdown",
      "source": [
        "## Класс - пользователь фабрики"
      ],
      "metadata": {
        "id": "amnIuQHYQ_Jo"
      }
    },
    {
      "cell_type": "code",
      "source": [
        "\"\"\"\n",
        "класс, использующий абстрактную фабрику лабиринтов. На вход нужно дать только указание о том,\n",
        "какую конкретную реализацию лабиринтов использовать. Создается лабиринт из 4 комнат и 3 дверей между ними.\n",
        "\"\"\"\n",
        "class MazeGame:\n",
        "    def create_maze(self,maze_factory:MazeFactory):\n",
        "        m = maze_factory.make_maze()\n",
        "        r1 = maze_factory.make_room()\n",
        "        r2 = maze_factory.make_room()\n",
        "        r3 = maze_factory.make_room()\n",
        "        r4 = maze_factory.make_room()\n",
        "        m.add_room(r1)\n",
        "        m.add_room(r2)\n",
        "        m.add_room(r3)\n",
        "        m.add_room(r4)\n",
        "\n",
        "        m.add_door(r1,r2)\n",
        "        m.add_door(r2,r3)\n",
        "        m.add_door(r3,r4)\n",
        "\n",
        "        print(m.draw())\n",
        "        return m\n"
      ],
      "metadata": {
        "id": "wLN3h2TNRGQp"
      },
      "execution_count": null,
      "outputs": []
    },
    {
      "cell_type": "markdown",
      "source": [
        "## Обычный лабиринт - первая конкретная фабрика и конкретный продукт"
      ],
      "metadata": {
        "id": "j0RQZoCzRHiF"
      }
    },
    {
      "cell_type": "code",
      "source": [
        "\"\"\"\n",
        "класс конкретной фабрики, реализующей интерфейс абстрактной\n",
        "\"\"\"\n",
        "class SimpleMazeFactory(MazeFactory):\n",
        "    def make_maze(self):\n",
        "        return SimpleMaze()\n",
        "    def make_room(self):\n",
        "        return SimpleRoom()\n",
        "\n",
        "\"\"\"\n",
        "класс конкретного продукта NumberMaze соответствует интерфейсу абстрактного продукта\n",
        "\"\"\"\n",
        "class SimpleMaze(AbstractMaze):\n",
        "    _data:list\n",
        "    def __init__(self):\n",
        "        self._data = list()\n",
        "\n",
        "    def draw(self):\n",
        "        res = ''\n",
        "        for i in self._data:\n",
        "            if type(i)==SimpleRoom:\n",
        "               res += ' '+str(i.index)+' '\n",
        "            else:\n",
        "                res += str(i)\n",
        "        return res\n",
        "\n",
        "    def add_room(self, r):\n",
        "        self._data.append(r)\n",
        "\n",
        "    def add_door(self,r1,r2):\n",
        "        index_r1 = self._data.index(r1)\n",
        "        index_r2 = self._data.index(r2)\n",
        "        self._data = self._data[:index_r1+1]+['->']+self._data[index_r2:]\n",
        "\n",
        "class SimpleRoom():\n",
        "    all_indexes = []\n",
        "    index:int\n",
        "    def __init__(self):\n",
        "        new_index = 0\n",
        "        while new_index in SimpleRoom.all_indexes or new_index==0:\n",
        "            new_index = Random().randint(1,10**6)\n",
        "        self.index = new_index"
      ],
      "metadata": {
        "id": "9aAKtZ1oRXCy"
      },
      "execution_count": null,
      "outputs": []
    },
    {
      "cell_type": "markdown",
      "source": [
        "## Волшебный лабиринт - вторая конкретная фабрика и конкретный продукт"
      ],
      "metadata": {
        "id": "DCm2zMQqReC5"
      }
    },
    {
      "cell_type": "code",
      "source": [
        "\"\"\"\n",
        "класс конкретной фабрики, реализующей интерфейс абстрактной\n",
        "\"\"\"\n",
        "class EnchantedMazeFactory(MazeFactory):\n",
        "    def make_maze(self):\n",
        "        return EnchantedMaze()\n",
        "    def make_room(self):\n",
        "        return EnchantedRoom()\n",
        "\"\"\"\n",
        "класс конкретного продукта, реализующий интерфейс абстрактного\n",
        "\"\"\"\n",
        "class EnchantedMaze(AbstractMaze):\n",
        "    _data:list\n",
        "    \n",
        "    def __init__(self):\n",
        "        self._data = list()\n",
        "\n",
        "    def draw(self):\n",
        "        res = ''\n",
        "        for i in self._data:\n",
        "            if type(i)==EnchantedRoom:\n",
        "               res += ' '+str(i.magic)+' '\n",
        "            else:\n",
        "                res += str(i)\n",
        "        return res\n",
        "\n",
        "    def add_room(self, r):\n",
        "        self._data.append(r)\n",
        "\n",
        "    def add_door(self,r1,r2):\n",
        "        index_r1 = self._data.index(r1)\n",
        "        index_r2 = self._data.index(r2)\n",
        "        random_direction = Random().randint(0,1)\n",
        "        left_sign = '<' if random_direction else '-'\n",
        "        right_sign = '>' if not random_direction else '-' \n",
        "        magic_door = left_sign + '-'*Random().randint(1,5) + right_sign\n",
        "        self._data = self._data[:index_r1+1]+[magic_door]+self._data[index_r2:]\n",
        "\n",
        "class EnchantedRoom():\n",
        "    all_indexes = []\n",
        "    index:int\n",
        "    magic:str\n",
        "    def __init__(self):\n",
        "        new_index = 0\n",
        "        while new_index in EnchantedRoom.all_indexes or new_index==0:\n",
        "            new_index = Random().randint(1,10**6)\n",
        "        self.index = new_index\n",
        "        self.magic = '*'*Random().randint(1,5)"
      ],
      "metadata": {
        "id": "mZGF10V4TruE"
      },
      "execution_count": null,
      "outputs": []
    },
    {
      "cell_type": "markdown",
      "source": [
        "## Применение"
      ],
      "metadata": {
        "id": "jriWnW5JRmWG"
      }
    },
    {
      "cell_type": "code",
      "source": [
        "  # Создаем простой лабиринт\n",
        "me = MazeGame().create_maze(SimpleMazeFactory())\n",
        "# me.draw()"
      ],
      "metadata": {
        "colab": {
          "base_uri": "https://localhost:8080/"
        },
        "id": "Y_5ypQT8RopT",
        "outputId": "265ad469-f4c2-4f26-c520-e2940dcd66da"
      },
      "execution_count": null,
      "outputs": [
        {
          "output_type": "stream",
          "name": "stdout",
          "text": [
            " 946711 -> 640452 -> 302224 -> 578967 \n"
          ]
        }
      ]
    },
    {
      "cell_type": "code",
      "source": [
        "# Создаем волшебный лабиринт\n",
        "ms = MazeGame().create_maze(EnchantedMazeFactory())\n",
        "# ms.draw()"
      ],
      "metadata": {
        "colab": {
          "base_uri": "https://localhost:8080/"
        },
        "id": "6KwzKlL6TcaH",
        "outputId": "af36753e-56f3-4a3e-d1b9-b4bc435e5a44"
      },
      "execution_count": null,
      "outputs": [
        {
          "output_type": "stream",
          "name": "stdout",
          "text": [
            " ** ----> ** ------> ***** <---- ** \n"
          ]
        }
      ]
    }
  ]
}