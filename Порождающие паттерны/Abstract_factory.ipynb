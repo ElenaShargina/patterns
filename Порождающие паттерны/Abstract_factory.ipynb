{
  "nbformat": 4,
  "nbformat_minor": 0,
  "metadata": {
    "colab": {
      "provenance": [],
      "authorship_tag": "ABX9TyN/dTI+EGrBJVCTenvIypD8",
      "include_colab_link": true
    },
    "kernelspec": {
      "name": "python3",
      "display_name": "Python 3"
    },
    "language_info": {
      "name": "python"
    }
  },
  "cells": [
    {
      "cell_type": "markdown",
      "metadata": {
        "id": "view-in-github",
        "colab_type": "text"
      },
      "source": [
        "<a href=\"https://colab.research.google.com/github/ElenaShargina/patterns/blob/master/%D0%9F%D0%BE%D1%80%D0%BE%D0%B6%D0%B4%D0%B0%D1%8E%D1%89%D0%B8%D0%B5%20%D0%BF%D0%B0%D1%82%D1%82%D0%B5%D1%80%D0%BD%D1%8B/Abstract_factory.ipynb\" target=\"_parent\"><img src=\"https://colab.research.google.com/assets/colab-badge.svg\" alt=\"Open In Colab\"/></a>"
      ]
    },
    {
      "cell_type": "markdown",
      "source": [
        "# Abstract factory / Абстрактная фабрика\n",
        "Предоставляет интерфейс для содания семейств взаимосвязанных объектов, не специфицируя их конкретных классов."
      ],
      "metadata": {
        "id": "SXti93PLPnQj"
      }
    },
    {
      "cell_type": "markdown",
      "source": [
        "## Абстрактный \"интерфейс\" продукта фабрики и абстрактная фабрика\n",
        "Продуктом нашей фабрики будет Лабиринт. "
      ],
      "metadata": {
        "id": "LGh9hWneQRCp"
      }
    },
    {
      "cell_type": "code",
      "execution_count": 63,
      "metadata": {
        "id": "40FyEQswPBpi"
      },
      "outputs": [],
      "source": [
        "from abc import ABC\n",
        "from random import Random\n",
        "\"\"\"\n",
        "абстрактный интерфейс для продукта фабрики - лабиринта\n",
        "\"\"\"\n",
        "class AbstractMaze(ABC):\n",
        "    def draw(self):\n",
        "        pass\n",
        "    def add_room(self, r):\n",
        "        pass\n",
        "    def add_door(self,r1,r2):\n",
        "        pass\n",
        "\"\"\"\n",
        "абстрактная фабрика для изготовления лабиринтов вне зависимости от их реализации,\n",
        "главное, чтобы их продукт удовлетворял интерфейсу абстрактного продукта\n",
        "\"\"\"\n",
        "class MazeFactory (ABC):\n",
        "    def make_maze(self):\n",
        "        pass\n",
        "    def make_room(self):\n",
        "        pass"
      ]
    },
    {
      "cell_type": "markdown",
      "source": [
        "## Класс - пользователь фабрики"
      ],
      "metadata": {
        "id": "amnIuQHYQ_Jo"
      }
    },
    {
      "cell_type": "code",
      "source": [
        "\"\"\"\n",
        "класс, использующий абстрактную фабрику лабиринтов. На вход нужно дать только указание о том,\n",
        "какую конкретную реализацию лабиринтов использовать. Создается лабиринт из 4 комнат и двух дверей между ними.\n",
        "\"\"\"\n",
        "class MazeGame:\n",
        "    def create_maze(self,maze_factory:MazeFactory):\n",
        "        m = maze_factory.make_maze()\n",
        "        r1 = maze_factory.make_room()\n",
        "        r2 = maze_factory.make_room()\n",
        "        r3 = maze_factory.make_room()\n",
        "        r4 = maze_factory.make_room()\n",
        "        m.add_room(r1)\n",
        "        m.add_room(r2)\n",
        "        m.add_room(r3)\n",
        "        m.add_room(r4)\n",
        "\n",
        "        m.add_door(r1,r2)\n",
        "        m.add_door(r2,r3)\n",
        "\n",
        "        print(m.draw())\n",
        "        return m\n"
      ],
      "metadata": {
        "id": "wLN3h2TNRGQp"
      },
      "execution_count": 64,
      "outputs": []
    },
    {
      "cell_type": "markdown",
      "source": [
        "## Цифровой лабиринт - первая конкретная фабрика и конкретный продукт"
      ],
      "metadata": {
        "id": "j0RQZoCzRHiF"
      }
    },
    {
      "cell_type": "code",
      "source": [
        "\"\"\"\n",
        "класс конкретной фабрики, реализующей интерфейс абстрактной\n",
        "\"\"\"\n",
        "class NumberMazeFactory(MazeFactory):\n",
        "    def make_maze(self):\n",
        "        return NumberMaze()\n",
        "    def make_room(self):\n",
        "        return NumberRoom()\n",
        "\n",
        "\"\"\"\n",
        "класс конкретного продукта NumberMaze соответствует интерфейсу абстрактного продукта\n",
        "\"\"\"\n",
        "class NumberMaze(AbstractMaze):\n",
        "    _data:list\n",
        "    def __init__(self):\n",
        "        self._data = list()\n",
        "\n",
        "    def draw(self):\n",
        "        res = ''\n",
        "        for i in self._data:\n",
        "            if type(i)==NumberRoom:\n",
        "               res += ' '+str(i.index)+' '\n",
        "            else:\n",
        "                res += str(i)\n",
        "        return res\n",
        "\n",
        "    def add_room(self, r):\n",
        "        self._data.append(r)\n",
        "\n",
        "    def add_door(self,r1,r2):\n",
        "        index_r1 = self._data.index(r1)\n",
        "        index_r2 = self._data.index(r2)\n",
        "        self._data = self._data[:index_r1+1]+['->']+self._data[index_r2:]\n",
        "\n",
        "class NumberRoom():\n",
        "    all_indexes = []\n",
        "    index:int\n",
        "    def __init__(self):\n",
        "        new_index = 0\n",
        "        while new_index in NumberRoom.all_indexes or new_index==0:\n",
        "            new_index = Random().randint(1,10**6)\n",
        "        self.index = new_index"
      ],
      "metadata": {
        "id": "9aAKtZ1oRXCy"
      },
      "execution_count": 65,
      "outputs": []
    },
    {
      "cell_type": "markdown",
      "source": [
        "## Графический лабиринт - вторая конкретная фабрика и конкретный продукт"
      ],
      "metadata": {
        "id": "DCm2zMQqReC5"
      }
    },
    {
      "cell_type": "code",
      "source": [
        "\"\"\"\n",
        "класс конкретной фабрики, реализующей интерфейс абстрактной\n",
        "\"\"\"\n",
        "class SimpleMazeFactory(MazeFactory):\n",
        "    def make_maze(self):\n",
        "        return SimpleMaze()\n",
        "    def make_room(self):\n",
        "        return SimpleRoom()\n",
        "\"\"\"\n",
        "класс конкретного продукта, реализующий интерфейс абстрактного\n",
        "(Maze наследуем для удобства, чтобы не переносить сюда весь код)\n",
        "\"\"\"\n",
        "class SimpleMaze(Maze,AbstractMaze):\n",
        "    pass\n",
        "class SimpleRoom(Room):\n",
        "    pass"
      ],
      "metadata": {
        "id": "mZGF10V4TruE"
      },
      "execution_count": 66,
      "outputs": []
    },
    {
      "cell_type": "code",
      "source": [
        "from enum import Enum\n",
        "class DrawException(Exception):\n",
        "    pass\n",
        "\n",
        "class Direction(Enum):\n",
        "    north='N'\n",
        "    south='S'\n",
        "    east='E'\n",
        "    west = 'W'\n",
        "\n",
        "class Incline(Enum):\n",
        "    vertical = 'V'\n",
        "    horizontal = 'H'\n",
        "\n",
        "class MapSite:\n",
        "    width=5\n",
        "    vertical_symbol = '|'\n",
        "    horizontal_symbol = '--'\n",
        "    corner_symbol = '.'\n",
        "    empty_symbol = '  '\n",
        "    door_symbol = '+'\n",
        "    def enter(self):\n",
        "        pass\n",
        "    def draw(self):\n",
        "        pass\n",
        "\n",
        "class Room(MapSite):\n",
        "    all_numbers: list=[]\n",
        "    def __init__(self):\n",
        "        new_index = 0\n",
        "        while new_index in Room.all_numbers or new_index==0:\n",
        "            new_index = Random().randint(1,10**6)\n",
        "        Room.all_numbers.append(new_index)\n",
        "        self.number = new_index\n",
        "        self.sides = {}\n",
        "        for i in Direction:\n",
        "            self.set_side(Wall(),i)\n",
        "\n",
        "    number: int = None\n",
        "    sides: dict\n",
        "\n",
        "    def set_side(self,side,direction:Direction):\n",
        "        if side.incline == None:\n",
        "            if direction in (direction.north, direction.south):\n",
        "                side.incline = Incline.horizontal\n",
        "            elif direction in (direction.east, direction.west):\n",
        "                side.incline = Incline.vertical\n",
        "        self.sides[direction.value] = side\n",
        "\n",
        "    def set_door(self,direction:Direction):\n",
        "        self.set_side(Door(),direction)\n",
        "\n",
        "    def draw(self):\n",
        "        \"\"\"\n",
        "        .------.\n",
        "        |      |\n",
        "        |      |\n",
        "        |      |\n",
        "        .------.\n",
        "        \"\"\"\n",
        "        res = self.corner_symbol\n",
        "        if self.sides[Direction.north.value]:\n",
        "            res += self.sides[Direction.north.value].draw()\n",
        "        else:\n",
        "            res += Wall(incline=Incline.horizontal).draw()\n",
        "        res += self.corner_symbol+'\\n'\n",
        "        vert_res = ''\n",
        "        if self.sides[Direction.west.value]:\n",
        "            vert_res += self.sides[Direction.west.value].draw()\n",
        "        else:\n",
        "            vert_res += Wall(incline=Incline.vertical).draw()\n",
        "        if self.sides[Direction.east.value]:\n",
        "            vert_res += self.sides[Direction.east.value].draw()\n",
        "        else:\n",
        "            vert_res += Wall(incline=Incline.vertical).draw()\n",
        "        vert_res = vert_res.strip().split('\\n')\n",
        "        for i in range(0,len(vert_res)//2):\n",
        "            res += vert_res[i]+self.empty_symbol*self.width+vert_res[len(vert_res)//2+i]+'\\n'\n",
        "        res += self.corner_symbol\n",
        "        if self.sides[Direction.south.value]:\n",
        "            res += self.sides[Direction.south.value].draw()\n",
        "        else:\n",
        "            res += Wall(incline=Incline.horizontal).draw()\n",
        "        res += self.corner_symbol+'\\n'\n",
        "        return res\n",
        "\n",
        "class Wall(MapSite):\n",
        "    incline:Incline = None\n",
        "    def __init__(self, incline=None):\n",
        "        self.incline = incline\n",
        "\n",
        "    def draw(self):\n",
        "        if self.incline == Incline.vertical:\n",
        "            return f'{self.vertical_symbol}\\n'*self.width\n",
        "        elif self.incline == Incline.horizontal:\n",
        "            return self.horizontal_symbol*self.width\n",
        "        else:\n",
        "            raise DrawException(f'Can not draw wall {self}, no incline is specified.')\n",
        "\n",
        "class Door(Wall):\n",
        "    is_open: bool = False\n",
        "    # room_1: Room = None\n",
        "    # room_2: Room = None\n",
        "\n",
        "    def draw(self):\n",
        "        if self.incline == Incline.vertical:\n",
        "            wall_height = self.width//3\n",
        "            door_height = self.width- 2*wall_height\n",
        "            return f'{self.vertical_symbol}\\n'*wall_height+f'{self.door_symbol}\\n'*door_height+f'{self.vertical_symbol}\\n'*wall_height\n",
        "        elif self.incline == Incline.horizontal:\n",
        "            wall_width = self.width // 3\n",
        "            door_width = self.width - 2 * wall_width\n",
        "            return self.vertical_symbol * wall_width + self.door_symbol * door_width + self.vertical_symbol * wall_width\n",
        "        else:\n",
        "            raise DrawException(f'Can not draw door {self}, no incline is specified.')\n",
        "\n",
        "class Maze:\n",
        "    data: list = []\n",
        "    def add_room(self, room: dict(type=Room,help='help string'))->None:\n",
        "        self.data.append(room)\n",
        "\n",
        "    def add_door(self,room1:Room,room2:Room):\n",
        "        room1.set_door(Direction.east)\n",
        "        room2.set_door(Direction.west)\n",
        "\n",
        "    def draw(self):\n",
        "        res = ''\n",
        "        res_list = []\n",
        "        number_of_rooms = len(self.data)\n",
        "        for r in self.data:\n",
        "            res_list.append(list(r.draw().splitlines()))\n",
        "        i = 0\n",
        "        room_height = len(res_list[0])\n",
        "        while i<room_height:\n",
        "            for r in res_list:\n",
        "                res += r[i]\n",
        "            res += '\\n'\n",
        "            i+=1\n",
        "        return res"
      ],
      "metadata": {
        "id": "RJcFYkAVRmBA"
      },
      "execution_count": 67,
      "outputs": []
    },
    {
      "cell_type": "markdown",
      "source": [
        "## Применение"
      ],
      "metadata": {
        "id": "jriWnW5JRmWG"
      }
    },
    {
      "cell_type": "code",
      "source": [
        "  # Создаем цифровой лабиринт\n",
        "me = MazeGame().create_maze(NumberMazeFactory())\n",
        "# me.draw()"
      ],
      "metadata": {
        "colab": {
          "base_uri": "https://localhost:8080/"
        },
        "id": "Y_5ypQT8RopT",
        "outputId": "5dac1fd2-5bcb-4203-acf6-9ef1dd6ccc86"
      },
      "execution_count": 70,
      "outputs": [
        {
          "output_type": "stream",
          "name": "stdout",
          "text": [
            " 12778 -> 360079 -> 84257  580755 \n"
          ]
        }
      ]
    },
    {
      "cell_type": "code",
      "source": [
        "# Создаем графический лабиринт\n",
        "ms = MazeGame().create_maze(SimpleMazeFactory())\n",
        "# ms.draw()"
      ],
      "metadata": {
        "colab": {
          "base_uri": "https://localhost:8080/"
        },
        "id": "6KwzKlL6TcaH",
        "outputId": "5a531af0-bce6-4838-9456-caa5ec0e9a1a"
      },
      "execution_count": 71,
      "outputs": [
        {
          "output_type": "stream",
          "name": "stdout",
          "text": [
            ".----------..----------..----------..----------..----------..----------..----------..----------.\n",
            "|          ||          ||          ||          ||          ||          ||          ||          |\n",
            "|          ++          ++          ||          ||          ++          ++          ||          |\n",
            "|          ++          ++          ||          ||          ++          ++          ||          |\n",
            "|          ++          ++          ||          ||          ++          ++          ||          |\n",
            "|          ||          ||          ||          ||          ||          ||          ||          |\n",
            ".----------..----------..----------..----------..----------..----------..----------..----------.\n",
            "\n"
          ]
        }
      ]
    }
  ]
}