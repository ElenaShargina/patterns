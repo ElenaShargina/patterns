{
  "nbformat": 4,
  "nbformat_minor": 0,
  "metadata": {
    "colab": {
      "provenance": [],
      "authorship_tag": "ABX9TyNQi5UssPEREH5UjLLOBlGG",
      "include_colab_link": true
    },
    "kernelspec": {
      "name": "python3",
      "display_name": "Python 3"
    },
    "language_info": {
      "name": "python"
    }
  },
  "cells": [
    {
      "cell_type": "markdown",
      "metadata": {
        "id": "view-in-github",
        "colab_type": "text"
      },
      "source": [
        "<a href=\"https://colab.research.google.com/github/ElenaShargina/patterns/blob/master/%D0%9F%D0%BE%D1%80%D0%BE%D0%B6%D0%B4%D0%B0%D1%8E%D1%89%D0%B8%D0%B5%20%D0%BF%D0%B0%D1%82%D1%82%D0%B5%D1%80%D0%BD%D1%8B/Factory_method.ipynb\" target=\"_parent\"><img src=\"https://colab.research.google.com/assets/colab-badge.svg\" alt=\"Open In Colab\"/></a>"
      ]
    },
    {
      "cell_type": "markdown",
      "source": [
        "# Factory method / Фабричный метод\n",
        "Паттерн определяет интерфейс для создания объекта, но оставляет подклассам решение о том, какой класс инстанцировать. \n",
        "Используется, когда\n",
        "- классу заранее неизвестно, объекты каких классов ему нужно создавать\n",
        "- класс спроектирован так, чтобы объекты, которые он создает, специфицировались подклассами"
      ],
      "metadata": {
        "id": "4ZLvyvM1gnQI"
      }
    },
    {
      "cell_type": "markdown",
      "source": [
        "![fabric_method.svg](data:image/svg+xml;base64,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)"
      ],
      "metadata": {
        "id": "nvUMaFRtjrw6"
      }
    },
    {
      "cell_type": "code",
      "execution_count": 1,
      "metadata": {
        "id": "6PYx7JQ4giK5"
      },
      "outputs": [],
      "source": [
        "# абстрактный продукт (Дом)\n",
        "class AbstractHouse:\n",
        "    def info(self):\n",
        "        print(self.__dict__)\n",
        "\n",
        "# абстрактный класс (Строительная компания) с фабричным методом\n",
        "class AbstractDeveloper:\n",
        "    def __init__(self,name):\n",
        "        self.name = name\n",
        "    # фабричный метод\n",
        "    def work(self):\n",
        "        pass\n",
        "\n",
        "# конкретный продукт (Деревянный дом)\n",
        "class WoodHouse(AbstractHouse):\n",
        "    def __init__(self,author):\n",
        "        self.type = 'Деревянный дом'\n",
        "        self.author = author\n",
        "\n",
        "# конкретный строитель \n",
        "class WoodDeveloper(AbstractDeveloper):\n",
        "    # реализация фабричного метода\n",
        "    def work(self):\n",
        "        return WoodHouse(self.name)\n",
        "\n",
        "# конкретный продукт (Панельный дом)\n",
        "class PanelHouse(AbstractHouse):\n",
        "    def __init__(self,author):\n",
        "        self.type = 'Панельный дом'\n",
        "        self.author = author\n",
        "\n",
        "# конкретный строиитель\n",
        "class PanelDeveloper(AbstractDeveloper):\n",
        "    # реализация фабричного метода\n",
        "    def work(self):\n",
        "        return PanelHouse(self.name)"
      ]
    },
    {
      "cell_type": "markdown",
      "source": [
        "## Применение"
      ],
      "metadata": {
        "id": "uLf49xeji3OP"
      }
    },
    {
      "cell_type": "code",
      "source": [
        "    wd = WoodDeveloper('Фирма по производству деревянных домов')\n",
        "    pd = PanelDeveloper('Компания по строительству из панелей')\n",
        "    # нужно построить много домов обоих видов, детали конкретной постройки нас не волнуют\n",
        "    for i in (pd,wd):\n",
        "        for j in range(0,10):\n",
        "          house = i.work()\n",
        "          house.info()"
      ],
      "metadata": {
        "colab": {
          "base_uri": "https://localhost:8080/"
        },
        "id": "11IlJY7Di5Rj",
        "outputId": "30f3d00b-b014-4b70-9a8d-e021627053ed"
      },
      "execution_count": 2,
      "outputs": [
        {
          "output_type": "stream",
          "name": "stdout",
          "text": [
            "{'type': 'Панельный дом', 'author': 'Компания по строительству из панелей'}\n",
            "{'type': 'Панельный дом', 'author': 'Компания по строительству из панелей'}\n",
            "{'type': 'Панельный дом', 'author': 'Компания по строительству из панелей'}\n",
            "{'type': 'Панельный дом', 'author': 'Компания по строительству из панелей'}\n",
            "{'type': 'Панельный дом', 'author': 'Компания по строительству из панелей'}\n",
            "{'type': 'Панельный дом', 'author': 'Компания по строительству из панелей'}\n",
            "{'type': 'Панельный дом', 'author': 'Компания по строительству из панелей'}\n",
            "{'type': 'Панельный дом', 'author': 'Компания по строительству из панелей'}\n",
            "{'type': 'Панельный дом', 'author': 'Компания по строительству из панелей'}\n",
            "{'type': 'Панельный дом', 'author': 'Компания по строительству из панелей'}\n",
            "{'type': 'Деревянный дом', 'author': 'Фирма по производству деревянных домов'}\n",
            "{'type': 'Деревянный дом', 'author': 'Фирма по производству деревянных домов'}\n",
            "{'type': 'Деревянный дом', 'author': 'Фирма по производству деревянных домов'}\n",
            "{'type': 'Деревянный дом', 'author': 'Фирма по производству деревянных домов'}\n",
            "{'type': 'Деревянный дом', 'author': 'Фирма по производству деревянных домов'}\n",
            "{'type': 'Деревянный дом', 'author': 'Фирма по производству деревянных домов'}\n",
            "{'type': 'Деревянный дом', 'author': 'Фирма по производству деревянных домов'}\n",
            "{'type': 'Деревянный дом', 'author': 'Фирма по производству деревянных домов'}\n",
            "{'type': 'Деревянный дом', 'author': 'Фирма по производству деревянных домов'}\n",
            "{'type': 'Деревянный дом', 'author': 'Фирма по производству деревянных домов'}\n"
          ]
        }
      ]
    }
  ]
}