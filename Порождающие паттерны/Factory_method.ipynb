{
  "nbformat": 4,
  "nbformat_minor": 0,
  "metadata": {
    "colab": {
      "provenance": [],
      "authorship_tag": "ABX9TyNTG+OR6IjRwCG2DSJrwklm",
      "include_colab_link": true
    },
    "kernelspec": {
      "name": "python3",
      "display_name": "Python 3"
    },
    "language_info": {
      "name": "python"
    }
  },
  "cells": [
    {
      "cell_type": "markdown",
      "metadata": {
        "id": "view-in-github",
        "colab_type": "text"
      },
      "source": [
        "<a href=\"https://colab.research.google.com/github/ElenaShargina/patterns/blob/master/%D0%9F%D0%BE%D1%80%D0%BE%D0%B6%D0%B4%D0%B0%D1%8E%D1%89%D0%B8%D0%B5%20%D0%BF%D0%B0%D1%82%D1%82%D0%B5%D1%80%D0%BD%D1%8B/Factory_method.ipynb\" target=\"_parent\"><img src=\"https://colab.research.google.com/assets/colab-badge.svg\" alt=\"Open In Colab\"/></a>"
      ]
    },
    {
      "cell_type": "markdown",
      "source": [
        "# Factory method / Фабричный метод\n",
        "Паттерн определяет интерфейс для создания объекта, но оставляет подклассам решение о том, какой класс инстанцировать. \n",
        "Используется, когда\n",
        "- классу заранее неизвестно, объекты каких классов ему нужно создавать\n",
        "- класс спроектирован так, чтобы объекты, которые он создает, специфицировались подклассами"
      ],
      "metadata": {
        "id": "4ZLvyvM1gnQI"
      }
    },
    {
      "cell_type": "markdown",
      "source": [
        "<img src='http://feana.ru/wp-content/uploads/2023/05/fabric_method.png' />"
      ],
      "metadata": {
        "id": "Ig192BfsLroq"
      }
    },
    {
      "cell_type": "code",
      "execution_count": null,
      "metadata": {
        "id": "6PYx7JQ4giK5"
      },
      "outputs": [],
      "source": [
        "# абстрактный продукт (Дом)\n",
        "class AbstractHouse:\n",
        "    def info(self):\n",
        "        print(self.__dict__)\n",
        "\n",
        "# абстрактный класс (Строительная компания) с фабричным методом\n",
        "class AbstractDeveloper:\n",
        "    def __init__(self,name):\n",
        "        self.name = name\n",
        "    # фабричный метод\n",
        "    def work(self):\n",
        "        pass\n",
        "\n",
        "# конкретный продукт (Деревянный дом)\n",
        "class WoodHouse(AbstractHouse):\n",
        "    def __init__(self,author):\n",
        "        self.type = 'Деревянный дом'\n",
        "        self.author = author\n",
        "\n",
        "# конкретный строитель \n",
        "class WoodDeveloper(AbstractDeveloper):\n",
        "    # реализация фабричного метода\n",
        "    def work(self):\n",
        "        return WoodHouse(self.name)\n",
        "\n",
        "# конкретный продукт (Панельный дом)\n",
        "class PanelHouse(AbstractHouse):\n",
        "    def __init__(self,author):\n",
        "        self.type = 'Панельный дом'\n",
        "        self.author = author\n",
        "\n",
        "# конкретный строиитель\n",
        "class PanelDeveloper(AbstractDeveloper):\n",
        "    # реализация фабричного метода\n",
        "    def work(self):\n",
        "        return PanelHouse(self.name)"
      ]
    },
    {
      "cell_type": "markdown",
      "source": [
        "## Применение"
      ],
      "metadata": {
        "id": "uLf49xeji3OP"
      }
    },
    {
      "cell_type": "code",
      "source": [
        "    wd = WoodDeveloper('Фирма по производству деревянных домов')\n",
        "    pd = PanelDeveloper('Компания по строительству из панелей')\n",
        "    # нужно построить много домов обоих видов, детали конкретной постройки нас не волнуют\n",
        "    for i in (pd,wd):\n",
        "        for j in range(0,10):\n",
        "          house = i.work()\n",
        "          house.info()"
      ],
      "metadata": {
        "colab": {
          "base_uri": "https://localhost:8080/"
        },
        "id": "11IlJY7Di5Rj",
        "outputId": "30f3d00b-b014-4b70-9a8d-e021627053ed"
      },
      "execution_count": null,
      "outputs": [
        {
          "output_type": "stream",
          "name": "stdout",
          "text": [
            "{'type': 'Панельный дом', 'author': 'Компания по строительству из панелей'}\n",
            "{'type': 'Панельный дом', 'author': 'Компания по строительству из панелей'}\n",
            "{'type': 'Панельный дом', 'author': 'Компания по строительству из панелей'}\n",
            "{'type': 'Панельный дом', 'author': 'Компания по строительству из панелей'}\n",
            "{'type': 'Панельный дом', 'author': 'Компания по строительству из панелей'}\n",
            "{'type': 'Панельный дом', 'author': 'Компания по строительству из панелей'}\n",
            "{'type': 'Панельный дом', 'author': 'Компания по строительству из панелей'}\n",
            "{'type': 'Панельный дом', 'author': 'Компания по строительству из панелей'}\n",
            "{'type': 'Панельный дом', 'author': 'Компания по строительству из панелей'}\n",
            "{'type': 'Панельный дом', 'author': 'Компания по строительству из панелей'}\n",
            "{'type': 'Деревянный дом', 'author': 'Фирма по производству деревянных домов'}\n",
            "{'type': 'Деревянный дом', 'author': 'Фирма по производству деревянных домов'}\n",
            "{'type': 'Деревянный дом', 'author': 'Фирма по производству деревянных домов'}\n",
            "{'type': 'Деревянный дом', 'author': 'Фирма по производству деревянных домов'}\n",
            "{'type': 'Деревянный дом', 'author': 'Фирма по производству деревянных домов'}\n",
            "{'type': 'Деревянный дом', 'author': 'Фирма по производству деревянных домов'}\n",
            "{'type': 'Деревянный дом', 'author': 'Фирма по производству деревянных домов'}\n",
            "{'type': 'Деревянный дом', 'author': 'Фирма по производству деревянных домов'}\n",
            "{'type': 'Деревянный дом', 'author': 'Фирма по производству деревянных домов'}\n",
            "{'type': 'Деревянный дом', 'author': 'Фирма по производству деревянных домов'}\n"
          ]
        }
      ]
    }
  ]
}