{
  "nbformat": 4,
  "nbformat_minor": 0,
  "metadata": {
    "colab": {
      "provenance": [],
      "toc_visible": true,
      "authorship_tag": "ABX9TyOpu8XQwva0enHnzKYPapmE",
      "include_colab_link": true
    },
    "kernelspec": {
      "name": "python3",
      "display_name": "Python 3"
    },
    "language_info": {
      "name": "python"
    }
  },
  "cells": [
    {
      "cell_type": "markdown",
      "metadata": {
        "id": "view-in-github",
        "colab_type": "text"
      },
      "source": [
        "<a href=\"https://colab.research.google.com/github/ElenaShargina/patterns/blob/master/creational/singleton.ipynb\" target=\"_parent\"><img src=\"https://colab.research.google.com/assets/colab-badge.svg\" alt=\"Open In Colab\"/></a>"
      ]
    },
    {
      "cell_type": "markdown",
      "source": [
        "# Singleton / Одиночка\n",
        "Паттерн гарантирует, что у класса будет только один экземпляр и предоставляет к нему глобальную точку доступа."
      ],
      "metadata": {
        "id": "7WFCSVFCA0D2"
      }
    },
    {
      "cell_type": "markdown",
      "source": [
        "## Инстанцируемый класс\n",
        "Определим некоторый класс, который будем инстанцировать с помощью паттерна Singleton."
      ],
      "metadata": {
        "id": "Y1Ey2ydPApc_"
      }
    },
    {
      "cell_type": "code",
      "source": [
        "class Figure:\n",
        "    def __init__(self):\n",
        "        self.height = 0\n",
        "        self.width = 0\n",
        "\n",
        "    def square(self):\n",
        "        return self.width*self.height\n",
        "\n",
        "    def get_info(self):\n",
        "        # проверка по id, что экземпляр будет одним и тем же.\n",
        "        print( f'ID экземпляра: {id(self)}')\n",
        "        # проверка содержимого экемпляра.\n",
        "        print(f' Атрибуты экземпляра: {self.__dict__}')"
      ],
      "metadata": {
        "id": "sxt0eE_FAoKH"
      },
      "execution_count": null,
      "outputs": []
    },
    {
      "cell_type": "markdown",
      "source": [
        "## Способы реализации паттерна\n",
        "### Реализация через метод класса"
      ],
      "metadata": {
        "id": "LPoelmGICF53"
      }
    },
    {
      "cell_type": "markdown",
      "source": [
        "![singleton-method-class.svg](data:image/svg+xml;base64,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)"
      ],
      "metadata": {
        "id": "Y9ak2laGEDSL"
      }
    },
    {
      "cell_type": "code",
      "source": [
        "# реализация через метод класса\n",
        "class SingleCls:\n",
        "    _instance = 0\n",
        "    @classmethod\n",
        "    def instance(cls):\n",
        "        if cls._instance == 0:\n",
        "            cls.object = Figure()\n",
        "            cls._instance = 1\n",
        "        return cls.object\n",
        "\n",
        "  # применение\n",
        "s1 = SingleCls.instance()\n",
        "s1.get_info()\n",
        "s2 = SingleCls.instance()\n",
        "s2.get_info()\n",
        "s2.height = 10\n",
        "# убеждаемся, что это один и тот же экземпляр\n",
        "s1.get_info()"
      ],
      "metadata": {
        "colab": {
          "base_uri": "https://localhost:8080/"
        },
        "id": "P4uMe6zGCvTA",
        "outputId": "07505ebf-cd8b-45fa-e1d8-b0e0e16ffa70"
      },
      "execution_count": null,
      "outputs": [
        {
          "output_type": "stream",
          "name": "stdout",
          "text": [
            "ID экземпляра: 140284654802384\n",
            " Атрибуты экземпляра: {'height': 0, 'width': 0}\n",
            "ID экземпляра: 140284654802384\n",
            " Атрибуты экземпляра: {'height': 0, 'width': 0}\n",
            "ID экземпляра: 140284654802384\n",
            " Атрибуты экземпляра: {'height': 10, 'width': 0}\n"
          ]
        }
      ]
    },
    {
      "cell_type": "markdown",
      "source": [
        "### Реализация через метод объекта"
      ],
      "metadata": {
        "id": "WZhhkaQzECQ6"
      }
    },
    {
      "cell_type": "code",
      "source": [
        "class SingleObj:\n",
        "    _instance = 0\n",
        "\n",
        "    def instance(self):\n",
        "        if SingleObj._instance == 0:\n",
        "            SingleObj.object = Figure()\n",
        "            SingleObj._instance = 1\n",
        "        return SingleObj.object\n",
        "\n",
        "# применение\n",
        "s3 = SingleObj().instance()\n",
        "s3.get_info()\n",
        "s4 = SingleObj().instance()\n",
        "s4.get_info()\n",
        "s3.height = 10\n",
        "# убеждаемся, что это один и тот же экземпляр\n",
        "s4.get_info()"
      ],
      "metadata": {
        "colab": {
          "base_uri": "https://localhost:8080/"
        },
        "id": "t_SpUFJTEttP",
        "outputId": "bb719fbb-3f3a-413d-ce15-fe66fb4bee67"
      },
      "execution_count": null,
      "outputs": [
        {
          "output_type": "stream",
          "name": "stdout",
          "text": [
            "ID экземпляра: 140284654804736\n",
            " Атрибуты экземпляра: {'height': 0, 'width': 0}\n",
            "ID экземпляра: 140284654804736\n",
            " Атрибуты экземпляра: {'height': 0, 'width': 0}\n",
            "ID экземпляра: 140284654804736\n",
            " Атрибуты экземпляра: {'height': 10, 'width': 0}\n"
          ]
        }
      ]
    },
    {
      "cell_type": "markdown",
      "source": [
        "### Реализация через статический метод класса"
      ],
      "metadata": {
        "id": "6Zj7W2EdFpcb"
      }
    },
    {
      "cell_type": "code",
      "execution_count": null,
      "metadata": {
        "colab": {
          "base_uri": "https://localhost:8080/"
        },
        "id": "xGTvOVMb_vCj",
        "outputId": "401e0111-1dab-4265-8a4d-4dc5abbbf98e"
      },
      "outputs": [
        {
          "output_type": "stream",
          "name": "stdout",
          "text": [
            "ID экземпляра: 140284654797536\n",
            " Атрибуты экземпляра: {'height': 0, 'width': 0}\n",
            "ID экземпляра: 140284654797536\n",
            " Атрибуты экземпляра: {'height': 0, 'width': 0}\n",
            "ID экземпляра: 140284654797536\n",
            " Атрибуты экземпляра: {'height': 10, 'width': 0}\n"
          ]
        }
      ],
      "source": [
        "class SingleStat:\n",
        "    _instance = 0\n",
        "    @staticmethod\n",
        "    def instance():\n",
        "        if SingleStat._instance == 0:\n",
        "            SingleStat.object = Figure()\n",
        "            SingleStat._instance = 1\n",
        "        return SingleStat.object\n",
        "# применение \n",
        "s5 = SingleStat.instance()\n",
        "s5.get_info()\n",
        "s6 = SingleStat.instance()\n",
        "s6.get_info()\n",
        "s5.height = 10\n",
        "# убеждаемся, что это один и тот же экземпляр\n",
        "s6.get_info()\n"
      ]
    }
  ]
}