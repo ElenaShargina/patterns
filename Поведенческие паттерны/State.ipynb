{
  "nbformat": 4,
  "nbformat_minor": 0,
  "metadata": {
    "colab": {
      "provenance": [],
      "authorship_tag": "ABX9TyNVcw6hxVdX2kEeSjwRKj4C",
      "include_colab_link": true
    },
    "kernelspec": {
      "name": "python3",
      "display_name": "Python 3"
    },
    "language_info": {
      "name": "python"
    }
  },
  "cells": [
    {
      "cell_type": "markdown",
      "metadata": {
        "id": "view-in-github",
        "colab_type": "text"
      },
      "source": [
        "<a href=\"https://colab.research.google.com/github/ElenaShargina/patterns/blob/master/%D0%9F%D0%BE%D0%B2%D0%B5%D0%B4%D0%B5%D0%BD%D1%87%D0%B5%D1%81%D0%BA%D0%B8%D0%B5%20%D0%BF%D0%B0%D1%82%D1%82%D0%B5%D1%80%D0%BD%D1%8B/State.ipynb\" target=\"_parent\"><img src=\"https://colab.research.google.com/assets/colab-badge.svg\" alt=\"Open In Colab\"/></a>"
      ]
    },
    {
      "cell_type": "markdown",
      "source": [
        "# State / Состояние\n",
        "Позволяет объекту варьировать свое поведение в зависимости от внутреннего состояния. Извне создается впечатление, что изменился класс объекта.\n",
        "Используется:\n",
        "- когда поведение объекта зависит от его состояния и должно изменяться во время выполнения.\n",
        "- когда в коде операций встречаются состоящие из многих ветвей условные операторы, в которых выбор ветви зависит от состояния. Обычно в таком случае состояние представлено перечисляемыми константами. Часто одна и та же структура условного оператора повторяется в нескольких операциях. Паттерн \"состояние\" предлагает поместить каждую ветвь в отдельный класс. это позволяет трактовать состояние объекта как самостоятельный объект, который может изменяться независимо от других."
      ],
      "metadata": {
        "id": "8yxfd4aK0UwZ"
      }
    },
    {
      "cell_type": "markdown",
      "source": [
        "## Пример реализации 1\n",
        "<img src='http://feana.ru/wp-content/uploads/2023/05/state.png'>"
      ],
      "metadata": {
        "id": "RNr6Ovjl0oCj"
      }
    },
    {
      "cell_type": "code",
      "execution_count": 9,
      "metadata": {
        "id": "QKIBTHB50L2V",
        "colab": {
          "base_uri": "https://localhost:8080/"
        },
        "outputId": "a9cf14a3-b263-428e-8ff7-9f1e34e603e7"
      },
      "outputs": [
        {
          "output_type": "stream",
          "name": "stdout",
          "text": [
            "Создадим соединение через порт 123. По умолчанию состояние канала \"closed\"\n",
            "Connection is in closed state at 123 port\n",
            "Откроем соединение. Теперь состояние канала \"established\"\n",
            "Open the connection...\n",
            "Connection is in established state at 123 port\n",
            "Закроем соединение. Теперь состояние канала \"closed\"\n",
            "Close the connection...\n",
            "Connection is in closed state at 123 port\n"
          ]
        }
      ],
      "source": [
        "# класс контекста, через который работают клиенты.\n",
        "class Connection:\n",
        "    def __init__(self,port):\n",
        "        self._state = TCPClosed(port)\n",
        "        \n",
        "    # метод, где Connection передает управление классу состояния TCPState\n",
        "    def open(self):\n",
        "        print('Open the connection...')\n",
        "        self._state.open(self)\n",
        "\n",
        "    def close(self):\n",
        "        print('Close the connection...')\n",
        "        self._state.close(self)\n",
        "\n",
        "    def change_state(self,state):\n",
        "        self._state = state\n",
        "\n",
        "    def display(self):\n",
        "        self._state.display()\n",
        "\n",
        "# класс-состояние\n",
        "class TCPState:\n",
        "    def __init__(self,port):\n",
        "        self._port = port\n",
        "    def open(self,connection):\n",
        "        pass\n",
        "    def close(self,connection):\n",
        "        pass\n",
        "    def display(self):\n",
        "        pass\n",
        "\n",
        "# подкласс - конкретное состояние\n",
        "class TCPEstablished(TCPState):\n",
        "    def open(self,connection):\n",
        "        pass\n",
        "    \n",
        "    # метод, где TCPEstablished принимает решение о смене состояния\n",
        "    def close(self,connection):\n",
        "        connection.change_state(TCPClosed(self._port))\n",
        "\n",
        "    def display(self):\n",
        "        print(f'Connection is in established state at {self._port} port')\n",
        "\n",
        "# подкласс - конкретное состояние\n",
        "class TCPClosed(TCPState):\n",
        "    # метод, где TCPClosed принимает решение о смене состояния\n",
        "    def open(self,connection):\n",
        "        connection.change_state(TCPEstablished(self._port))\n",
        "\n",
        "    def close(self,connection):\n",
        "        pass\n",
        "    \n",
        "    def display(self):\n",
        "        print(f'Connection is in closed state at {self._port} port')\n",
        "\n",
        "\n",
        "print('Создадим соединение через порт 123. По умолчанию состояние канала \"closed\"')\n",
        "connect = Connection(port=123)\n",
        "connect.display()\n",
        "print('Откроем соединение. Теперь состояние канала \"established\"')\n",
        "connect.open()\n",
        "connect.display()\n",
        "print('Закроем соединение. Теперь состояние канала \"closed\"')\n",
        "connect.close()\n",
        "connect.display()\n",
        "\n",
        "\n"
      ]
    },
    {
      "cell_type": "markdown",
      "source": [
        "## Пример реализации 2\n",
        "\n",
        "В этом примере решение о смене состояния будет принимать класс контекста."
      ],
      "metadata": {
        "id": "zxxFcBtHYw4a"
      }
    },
    {
      "cell_type": "code",
      "source": [
        "# класс контекста, через который работают клиенты\n",
        "class Connection:\n",
        "    def __init__(self,port):\n",
        "        self._port = port\n",
        "        self._state = ClosedState(self._port)\n",
        "\n",
        "    # метод, где Connection сам принимает решение о смене подкласса состояния\n",
        "    def open(self):\n",
        "        self._state.__class__ = OpenedState\n",
        "\n",
        "    # метод, где Connection сам принимает решение о смене подкласса состояния\n",
        "    def close(self):\n",
        "        self._state.__class__ = ClosedState\n",
        "\n",
        "    def send(self,message):\n",
        "        self._state.send(message)\n",
        "\n",
        "    def display(self):\n",
        "        self._state.display()\n",
        "\n",
        "# класс-состояние\n",
        "class State:\n",
        "    def __init__(self,port):\n",
        "        self._port = port\n",
        "        \n",
        "    def open(self):\n",
        "        pass\n",
        "\n",
        "    def close(self):\n",
        "        pass\n",
        "\n",
        "    def display(self):\n",
        "        print(self.__class__.__name__,end=' -> ')\n",
        "        self._display()\n",
        "\n",
        "    def send(self,message):\n",
        "        pass\n",
        "\n",
        "# подкласс-состояние \"закрыто\"\n",
        "class ClosedState(State):\n",
        "    def open(self):\n",
        "        print('The state is Closed.')\n",
        "    def close(self):\n",
        "        pass\n",
        "    def _display(self):\n",
        "        print(f'The state is closed at {self._port} port.')\n",
        "    def send(self,message):\n",
        "        print('Cant send message to closed state')\n",
        "\n",
        "# подкласс-состояние \"открыто\"\n",
        "class OpenedState(State):\n",
        "    def open(self):\n",
        "        pass\n",
        "    def close(self):\n",
        "        pass\n",
        "    def _display(self):\n",
        "        print(f'The state is opened at {self._port} port.')\n",
        "    def send(self,message):\n",
        "        print(f'Message {message} is successfully sent.')\n",
        "\n",
        "print('Создадим соединение через порт 123. По умолчанию состояние канала \"closed\"')\n",
        "context = Connection(port=123)\n",
        "context.display()\n",
        "print('Откроем соединение. Теперь состояние канала \"open\"')\n",
        "context.open()\n",
        "context.display()\n",
        "print('Отправим сообщение.')\n",
        "context.send('Hello')\n",
        "print('Закроем соединение. Теперь состояние канала \"closed\"')\n",
        "context.close()\n",
        "context.display()\n",
        "print('Попробуем отправить сообщение в закрытый канал.')\n",
        "context.send('Hi')"
      ],
      "metadata": {
        "colab": {
          "base_uri": "https://localhost:8080/"
        },
        "id": "fJVlCgDjY0KX",
        "outputId": "7910e380-1892-424b-efac-1fb4f07a104c"
      },
      "execution_count": 10,
      "outputs": [
        {
          "output_type": "stream",
          "name": "stdout",
          "text": [
            "Создадим соединение через порт 123. По умолчанию состояние канала \"closed\"\n",
            "ClosedState -> The state is closed at 123 port.\n",
            "Откроем соединение. Теперь состояние канала \"open\"\n",
            "OpenedState -> The state is opened at 123 port.\n",
            "Отправим сообщение.\n",
            "Message Hello is successfully sent.\n",
            "Закроем соединение. Теперь состояние канала \"closed\"\n",
            "ClosedState -> The state is closed at 123 port.\n",
            "Попробуем отправить сообщение в закрытый канал.\n",
            "Cant send message to closed state\n"
          ]
        }
      ]
    }
  ]
}