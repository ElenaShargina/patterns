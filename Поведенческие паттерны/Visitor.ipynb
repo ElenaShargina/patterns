{
  "nbformat": 4,
  "nbformat_minor": 0,
  "metadata": {
    "colab": {
      "provenance": [],
      "authorship_tag": "ABX9TyOGX4nlmnCY4wMRHvBlBy97",
      "include_colab_link": true
    },
    "kernelspec": {
      "name": "python3",
      "display_name": "Python 3"
    },
    "language_info": {
      "name": "python"
    }
  },
  "cells": [
    {
      "cell_type": "markdown",
      "metadata": {
        "id": "view-in-github",
        "colab_type": "text"
      },
      "source": [
        "<a href=\"https://colab.research.google.com/github/ElenaShargina/patterns/blob/master/%D0%9F%D0%BE%D0%B2%D0%B5%D0%B4%D0%B5%D0%BD%D1%87%D0%B5%D1%81%D0%BA%D0%B8%D0%B5%20%D0%BF%D0%B0%D1%82%D1%82%D0%B5%D1%80%D0%BD%D1%8B/Visitor.ipynb\" target=\"_parent\"><img src=\"https://colab.research.google.com/assets/colab-badge.svg\" alt=\"Open In Colab\"/></a>"
      ]
    },
    {
      "cell_type": "markdown",
      "source": [
        "# Visitor / Посетитель\n",
        "Описывает операцию, выполняемую с каждым объектом из некоторой структуры. Паттерн посетитель позволяет определить новую операцию, не изменяя классы этих объектов.\n",
        "Используется когда в структуре присутствуют объекты многих классов с различными интерфейсами и вы хотите выполнять над ними операции, зависящие от конкретных классов."
      ],
      "metadata": {
        "id": "slZ_BjX43baL"
      }
    },
    {
      "cell_type": "markdown",
      "source": [
        "## Пример реализации\n",
        "<img src='http://feana.ru/wp-content/uploads/2023/05/visitor.png'>"
      ],
      "metadata": {
        "id": "eRMWWhjW31gm"
      }
    },
    {
      "cell_type": "code",
      "execution_count": 5,
      "metadata": {
        "id": "qncGK5mP3LLC",
        "colab": {
          "base_uri": "https://localhost:8080/"
        },
        "outputId": "325cde23-07ee-45b8-e95c-13ed07cdb609"
      },
      "outputs": [
        {
          "output_type": "stream",
          "name": "stdout",
          "text": [
            "Выведем список объектов: \n",
            "COMPUTER: name : new notebook, price : 200, weight : 1;\n",
            "CHAIR: name : old chair, price : 50, weight : 5;\n",
            "TABLE: name : very good table, price : 100, weight : 20\n",
            "\n",
            "Подсчитаем суммарную стоимость объектов: \n",
            "Counting price of computer\n",
            "Counting price of chairs\n",
            "Counting price of table\n",
            "350\n",
            "\n",
            "Подсчитаем суммарный вес объектов: \n",
            "Counting weight of computer\n",
            "Counting weight of chair\n",
            "Counting weight of table\n",
            "26\n"
          ]
        }
      ],
      "source": [
        "# класс объекта - мебели\n",
        "class Equipment:\n",
        "    def __init__(self,name,price,weight):\n",
        "        self.name = name\n",
        "        self.price = price\n",
        "        self.weight = weight\n",
        "\n",
        "    def accept(self,equipment_visitor):\n",
        "        pass\n",
        "\n",
        "# класс собрания объектов\n",
        "class CompositeEquipment:\n",
        "    def __init__(self,name):\n",
        "        self.name = name\n",
        "        self._items = []\n",
        "\n",
        "    def add(self,item:Equipment):\n",
        "        self._items.append(item)\n",
        "\n",
        "    def iterator(self):\n",
        "        return iter(self._items)\n",
        "\n",
        "# класс посетителя для объектов\n",
        "class EquipmentVisitor:\n",
        "    def visit_chair(self,equipment):\n",
        "        pass\n",
        "    def visit_table(self,equipment):\n",
        "        pass\n",
        "    def visit_computer(self,equipment):\n",
        "        pass\n",
        "\n",
        "# подкласс посетителя для подсчета суммы какой-либо характеристики объектов\n",
        "class EquipmentCountingVisitor(EquipmentVisitor):\n",
        "    def __init__(self):\n",
        "        self._total = 0\n",
        "\n",
        "    def get_total(self, composite_equipment: CompositeEquipment):\n",
        "        for i in composite_equipment.iterator():\n",
        "            i.accept(self)\n",
        "        return self._total\n",
        "\n",
        "# подкласс объекта - стул \n",
        "class Chair(Equipment):\n",
        "    def accept(self,equipment_visitor):\n",
        "        equipment_visitor.visit_chair(self)\n",
        "\n",
        "# подкласс объекта - стол \n",
        "class Table(Equipment):\n",
        "    def accept(self,equipment_visitor):\n",
        "        equipment_visitor.visit_table(self)\n",
        "\n",
        "# подкласс объекта - компьютер \n",
        "class Computer(Equipment):\n",
        "    def accept(self,equipment_visitor):\n",
        "        equipment_visitor.visit_computer(self)\n",
        "\n",
        "# подкласс посетителя для подсчета общей стоимости объектов\n",
        "class PriceVisitor(EquipmentCountingVisitor):\n",
        "    def visit_chair(self,equipment):\n",
        "        print('Counting price of chairs')\n",
        "        self._total += equipment.price\n",
        "    def visit_computer(self,equipment):\n",
        "        print('Counting price of computer')\n",
        "        self._total += equipment.price\n",
        "    def visit_table(self,equipment):\n",
        "        print('Counting price of table')\n",
        "        self._total += equipment.price\n",
        "\n",
        "# подкласс посетителя для подсчета общего веса объектов\n",
        "class WeightVisitor(EquipmentCountingVisitor):\n",
        "    def visit_chair(self,equipment):\n",
        "        print('Counting weight of chair')\n",
        "        self._total += equipment.weight\n",
        "    def visit_computer(self,equipment):\n",
        "        print('Counting weight of computer')\n",
        "        self._total += equipment.weight\n",
        "    def visit_table(self,equipment):\n",
        "        print('Counting weight of table')\n",
        "        self._total += equipment.weight\n",
        "\n",
        "# подкласс посетителя для обхода и вывода списка объектов\n",
        "class ListVisitor(EquipmentVisitor):\n",
        "    def __init__(self):\n",
        "        self.res = []\n",
        "\n",
        "    def work(self,composite_equipment):\n",
        "        for i in composite_equipment.iterator():\n",
        "            i.accept(self)\n",
        "        return ';\\n'.join(self.res)\n",
        "\n",
        "    def visit_table(self,equipment):\n",
        "        self.res.append('TABLE: '+ ', '.join([f'{str(j)} : {equipment.__dict__[j]}' for j in equipment.__dict__]))\n",
        "\n",
        "    def visit_chair(self,equipment):\n",
        "        self.res.append('CHAIR: '+ ', '.join([f'{str(j)} : {equipment.__dict__[j]}' for j in equipment.__dict__]))\n",
        "\n",
        "    def visit_computer(self,equipment):\n",
        "        self.res.append('COMPUTER: '+ ', '.join([f'{str(j)} : {equipment.__dict__[j]}' for j in equipment.__dict__]))\n",
        "\n",
        "# создадим несколько объектов-мебели\n",
        "mytable = Table('very good table',100,20)\n",
        "mychair = Chair('old chair',50,5)\n",
        "mycomp = Computer('new notebook',200,1)\n",
        "# поместим их в общее собрание\n",
        "my_workarea = CompositeEquipment('My work_area')\n",
        "my_workarea.add(mycomp)\n",
        "my_workarea.add(mychair)\n",
        "my_workarea.add(mytable)\n",
        "\n",
        "print('Выведем список объектов: ')\n",
        "my_list_visitor = ListVisitor()\n",
        "print(my_list_visitor.work(my_workarea))\n",
        "\n",
        "print('\\nПодсчитаем суммарную стоимость объектов: ')\n",
        "my_price_visitor = PriceVisitor()\n",
        "print(my_price_visitor.get_total(my_workarea))\n",
        "\n",
        "print('\\nПодсчитаем суммарный вес объектов: ')\n",
        "my_weight_visitor = WeightVisitor()\n",
        "print(my_weight_visitor.get_total(my_workarea))\n",
        "\n",
        "\n"
      ]
    }
  ]
}