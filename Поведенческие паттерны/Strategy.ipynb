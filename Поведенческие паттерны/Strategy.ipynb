{
  "nbformat": 4,
  "nbformat_minor": 0,
  "metadata": {
    "colab": {
      "provenance": [],
      "authorship_tag": "ABX9TyMYvaCVTTut6jhtI2cU6j4M",
      "include_colab_link": true
    },
    "kernelspec": {
      "name": "python3",
      "display_name": "Python 3"
    },
    "language_info": {
      "name": "python"
    }
  },
  "cells": [
    {
      "cell_type": "markdown",
      "metadata": {
        "id": "view-in-github",
        "colab_type": "text"
      },
      "source": [
        "<a href=\"https://colab.research.google.com/github/ElenaShargina/patterns/blob/master/%D0%9F%D0%BE%D0%B2%D0%B5%D0%B4%D0%B5%D0%BD%D1%87%D0%B5%D1%81%D0%BA%D0%B8%D0%B5%20%D0%BF%D0%B0%D1%82%D1%82%D0%B5%D1%80%D0%BD%D1%8B/Strategy.ipynb\" target=\"_parent\"><img src=\"https://colab.research.google.com/assets/colab-badge.svg\" alt=\"Open In Colab\"/></a>"
      ]
    },
    {
      "cell_type": "markdown",
      "source": [
        "# Strategy / Стратегия\n",
        "Определяет семейство алгоритмов, инкапсулирует каждый из них и делает их взаимозаменяемыми. Стратегия позволяет изменить алгоритмы независимо от клиентов, которые ими пользуются.\n",
        "Используется когда:\n",
        "- имеется много родственных классов, отличающихся только поведением. Стратегия позволяет сконфигурировать класс, задав одно из возможных поведений.\n",
        "- в классе определено много поведений, что представлено разветвленными условными операторами. В этом случае проще перенести код из ветвей в отдельные классы стратегий."
      ],
      "metadata": {
        "id": "5Wrai0EK05dJ"
      }
    },
    {
      "cell_type": "markdown",
      "source": [
        "## Пример реализации\n",
        "<img src='http://feana.ru/wp-content/uploads/2023/05/strategy.png'>"
      ],
      "metadata": {
        "id": "upv8TxcY2Pju"
      }
    },
    {
      "cell_type": "code",
      "execution_count": 1,
      "metadata": {
        "id": "SPJBOOcg0wgl",
        "colab": {
          "base_uri": "https://localhost:8080/"
        },
        "outputId": "1bc0187a-b9bf-4c32-eebc-9ef6664572a0"
      },
      "outputs": [
        {
          "output_type": "stream",
          "name": "stdout",
          "text": [
            "Создадим контекст с набором из двух параметров\n",
            "Реализуем первую стратегию с заданными данными. Она использует параметр 1 из начального контекста.\n",
            "Starting concrete strategy 1 with data some specific data  and params parameter 2\n",
            "Реализуем вторую стратегию с заданными данными. Она использует параметр 2 из начального контекста.\n",
            "Starting concrete strategy 2 with data another specific data  and params parameter 1\n"
          ]
        }
      ],
      "source": [
        "class Strategy:\n",
        "    def __init__(self,context):\n",
        "        self._context = context\n",
        "    def algorithm(self,data):\n",
        "        pass\n",
        "\n",
        "class ConcreteStrategy1(Strategy):\n",
        "    def algorithm(self,data):\n",
        "        print('Starting concrete strategy 1 with data', data, ' and params', self._context.params[1])\n",
        "\n",
        "class ConcreteStrategy2(Strategy):\n",
        "    def algorithm(self, data):\n",
        "        print('Starting concrete strategy 2 with data', data, ' and params', self._context.params[0])\n",
        "\n",
        "\n",
        "class Context:\n",
        "    def __init__(self,params):\n",
        "        self.params = params\n",
        "\n",
        "    def doit(self,strategy,data):\n",
        "        strategy(self).algorithm(data)\n",
        "\n",
        "print('Создадим контекст с набором из двух параметров')\n",
        "my_context = Context(['parameter 1','parameter 2'])\n",
        "print('Реализуем первую стратегию с заданными данными. Она использует параметр 1 из начального контекста.')\n",
        "my_context.doit(ConcreteStrategy1,'some specific data')\n",
        "print('Реализуем вторую стратегию с заданными данными. Она использует параметр 2 из начального контекста.')\n",
        "my_context.doit(ConcreteStrategy2,'another specific data')"
      ]
    }
  ]
}