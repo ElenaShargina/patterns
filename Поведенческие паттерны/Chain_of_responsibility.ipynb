{
  "nbformat": 4,
  "nbformat_minor": 0,
  "metadata": {
    "colab": {
      "provenance": [],
      "authorship_tag": "ABX9TyO7f+ZUIiUQ3Yko7i0Vsvwf",
      "include_colab_link": true
    },
    "kernelspec": {
      "name": "python3",
      "display_name": "Python 3"
    },
    "language_info": {
      "name": "python"
    }
  },
  "cells": [
    {
      "cell_type": "markdown",
      "metadata": {
        "id": "view-in-github",
        "colab_type": "text"
      },
      "source": [
        "<a href=\"https://colab.research.google.com/github/ElenaShargina/patterns/blob/master/%D0%9F%D0%BE%D0%B2%D0%B5%D0%B4%D0%B5%D0%BD%D1%87%D0%B5%D1%81%D0%BA%D0%B8%D0%B5%20%D0%BF%D0%B0%D1%82%D1%82%D0%B5%D1%80%D0%BD%D1%8B/Chain_of_responsibility.ipynb\" target=\"_parent\"><img src=\"https://colab.research.google.com/assets/colab-badge.svg\" alt=\"Open In Colab\"/></a>"
      ]
    },
    {
      "cell_type": "markdown",
      "source": [
        "# Chain of responsibility / Цепочка обязанностей\n",
        "\n",
        "Паттерн позволяет избежать привязки отправителя запроса к его получателю, давая шанс обработать запрос нескольким объектам. Связывает объекты-получатели в цепочку и передает запрос вдоль этой цепочки, пока его не обработают."
      ],
      "metadata": {
        "id": "IgaRiNBXrFo2"
      }
    },
    {
      "cell_type": "markdown",
      "source": [
        "## Пример реализации"
      ],
      "metadata": {
        "id": "zNruDAzmrX4s"
      }
    },
    {
      "cell_type": "code",
      "execution_count": 36,
      "metadata": {
        "id": "LukQSBWhrChH",
        "colab": {
          "base_uri": "https://localhost:8080/"
        },
        "outputId": "077a201c-9bf4-446a-a533-1439a0ac8bc6"
      },
      "outputs": [
        {
          "output_type": "stream",
          "name": "stdout",
          "text": [
            "Название: Main window, строка помощи: Some help text for main window\n",
            "\n",
            "Название: Main window, строка помощи: Some help text for main window\n",
            "-Название: Left column, строка помощи: None\n",
            "--Название: Button Save, строка помощи: Some help text for Save button\n",
            "--Название: Button Discard, строка помощи: Some help text for Discard button\n",
            "-Название: Right column, строка помощи: Some help text for Right column\n",
            "--Название: Button Load, строка помощи: Some help text for Load button\n",
            "--Название: Button New, строка помощи: None\n",
            "-Название: Footer, строка помощи: None\n",
            "--Название: Button Exit, строка помощи: None\n",
            "\n",
            "Текст помощи для кнопки Discard : \n",
            "HELP: Some help text for Discard button\n",
            "Текст помощи для кнопки New : \n",
            "HELP: Some help text for Right column\n",
            "Текст помощи для кнопки Exit : \n",
            "HELP: Some help text for main window\n"
          ]
        }
      ],
      "source": [
        "# Класс для построения дерева виджетов\n",
        "class Component:\n",
        "    def __init__(self,name):\n",
        "        self.name = name\n",
        "        self.children = []\n",
        "\n",
        "    def add(self,instance):\n",
        "        self.children = self.children + [instance,]\n",
        "\n",
        "    def __str__(self):\n",
        "        return f'Название: {self.name}, строка помощи: {self.text}\\n'\n",
        "\n",
        "    def display(self,tab=''):\n",
        "        res = tab+str(self)\n",
        "        if len(self.children)>0:\n",
        "          for i in self.children:\n",
        "              res += i.display(tab+'-')\n",
        "        else:\n",
        "          res = tab + str(self)\n",
        "        return res\n",
        "\n",
        "\"\"\"\n",
        "Подмешиваемый в виджеты класс, содержащий текст подсказки и ссылку на родительский виджет - где будет\n",
        "искать текст помощи в случае отсутствия текста помощи у себя\n",
        "\"\"\"\n",
        "class HelpHandler:\n",
        "    def __init__(self, parent = None, help_text=None):\n",
        "      self._next = parent\n",
        "      self.text = help_text\n",
        "\n",
        "    @property\n",
        "    def has_text(self):\n",
        "        if self.text!=None:\n",
        "            return True\n",
        "        else:\n",
        "            return False\n",
        "\n",
        "    def help(self):\n",
        "        if self.has_text:\n",
        "            print('HELP: ' + str(self.text))\n",
        "        else:\n",
        "            if self._next!=None:\n",
        "                self._next.help()\n",
        "            else:\n",
        "                print('No help is found =(')\n",
        "\n",
        "# Класс виджета\n",
        "class Widget(Component, HelpHandler):\n",
        "    def __init__(self,  name, parent=None, help_text=None):\n",
        "        getattr(Component, '__init__')(self,name)\n",
        "        getattr(HelpHandler, '__init__')(self,parent,help_text)\n",
        "    \n",
        "    def add(self,instance):\n",
        "        instance._next = self\n",
        "        getattr(Component, 'add')(self, instance)\n",
        "\n",
        "\n",
        "# Построим дерево виджетов. У каких-то будет свой текст помощи, у каких-то нет. \n",
        "window = Widget('Main window', parent=None, help_text = 'Some help text for main window' )\n",
        "\n",
        "column1 = Widget('Left column',  help_text = None)\n",
        "button1 = Widget('Button Save',  help_text = 'Some help text for Save button')\n",
        "column1.add(button1)\n",
        "button2 = Widget('Button Discard',  help_text = 'Some help text for Discard button')\n",
        "column1.add(button2)\n",
        "window.add(column1)\n",
        "\n",
        "column2 = Widget('Right column',  help_text = 'Some help text for Right column')\n",
        "button3 = Widget('Button Load',  help_text = 'Some help text for Load button')\n",
        "column2.add(button3)\n",
        "button4 = Widget('Button New',  help_text = None)\n",
        "column2.add(button4)\n",
        "window.add(column2)\n",
        "\n",
        "column3 = Widget('Footer',  help_text = None)\n",
        "button5 = Widget('Button Exit',  help_text = None)\n",
        "column3.add(button5)\n",
        "window.add(column3)\n",
        "\n",
        "print(window.display())\n",
        "\n",
        "# Запросим текст помощи для кнопки Discard\n",
        "# У нее есть свой собственный текст помощи\n",
        "print('Текст помощи для кнопки Discard : ')\n",
        "button2.help()\n",
        "# Запросим текст помощи для кнопки New\n",
        "# У нее нет своего текста, идем выше по дереву вплоть до Right column\n",
        "print('Текст помощи для кнопки New : ')\n",
        "button4.help()\n",
        "# Запросим текст помощи для кнопки New\n",
        "# У нее нет своего текста, идем выше по дереву вплоть до Main window\n",
        "print('Текст помощи для кнопки Exit : ')\n",
        "button5.help()"
      ]
    }
  ]
}