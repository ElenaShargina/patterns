{
  "nbformat": 4,
  "nbformat_minor": 0,
  "metadata": {
    "colab": {
      "provenance": [],
      "authorship_tag": "ABX9TyOTv4gbmuX1YPJWYxfXDVKC",
      "include_colab_link": true
    },
    "kernelspec": {
      "name": "python3",
      "display_name": "Python 3"
    },
    "language_info": {
      "name": "python"
    }
  },
  "cells": [
    {
      "cell_type": "markdown",
      "metadata": {
        "id": "view-in-github",
        "colab_type": "text"
      },
      "source": [
        "<a href=\"https://colab.research.google.com/github/ElenaShargina/patterns/blob/master/%D0%9F%D0%BE%D0%B2%D0%B5%D0%B4%D0%B5%D0%BD%D1%87%D0%B5%D1%81%D0%BA%D0%B8%D0%B5%20%D0%BF%D0%B0%D1%82%D1%82%D0%B5%D1%80%D0%BD%D1%8B/Interpreter.ipynb\" target=\"_parent\"><img src=\"https://colab.research.google.com/assets/colab-badge.svg\" alt=\"Open In Colab\"/></a>"
      ]
    },
    {
      "cell_type": "markdown",
      "source": [
        "# Interpreter / Интерпретатор\n",
        "Для заданного языка определяет представление его грамматики, а также интерпретатор предложений этого языка."
      ],
      "metadata": {
        "id": "wNzuUujVu-1J"
      }
    },
    {
      "cell_type": "markdown",
      "source": [
        "## Пример реализации\n",
        "\n",
        "Реализуем простой интерпретатор булевых выражений."
      ],
      "metadata": {
        "id": "fZ4xtxizvrVF"
      }
    },
    {
      "cell_type": "markdown",
      "source": [
        "<img src='http://feana.ru/wp-content/uploads/2023/05/interpreter-e1685284341688.png'>"
      ],
      "metadata": {
        "id": "GwS4AnoIxT3J"
      }
    },
    {
      "cell_type": "code",
      "execution_count": 12,
      "metadata": {
        "id": "JYtxwA2Au3ZB",
        "colab": {
          "base_uri": "https://localhost:8080/"
        },
        "outputId": "73595de2-8fd4-45dc-fe2b-71b69ad84714"
      },
      "outputs": [
        {
          "output_type": "stream",
          "name": "stdout",
          "text": [
            "(NOT (X)) AND (Y)\n",
            "Context: \n",
            "X = False\n",
            "Y = True\n",
            "(NOT (False)) AND (True)\n",
            "True\n",
            "(NOT (Y)) AND (Z)\n",
            "Context: \n",
            "X = False\n",
            "Y = True\n",
            "Z = False\n",
            "(NOT (True)) AND (False)\n",
            "False\n"
          ]
        }
      ],
      "source": [
        "# класс контекста, где будут храниться значения именованных переменных\n",
        "class Context:\n",
        "    def __init__(self):\n",
        "        self.values = {}\n",
        "\n",
        "    def look_up(self, name):\n",
        "        if name in self.values:\n",
        "            return self.values[name]\n",
        "        else:\n",
        "            raise Exception(f'No variable {name} is assigned in current context.')\n",
        "\n",
        "    def assign(self, a, b:bool):\n",
        "        self.values[a.name] = b\n",
        "        pass\n",
        "    \n",
        "    def __str__(self):\n",
        "        return \"Context: \\n\"+\"\\n\".join([f'{i} = {j}' for i,j in self.values.items()])\n",
        "\n",
        "# абстрактный класс - булевое выражение\n",
        "class BooleanExpression:\n",
        "    def evaluate(self,context:Context):\n",
        "        pass\n",
        "    def replace(self, value, a):\n",
        "        pass\n",
        "    def copy(self):\n",
        "        pass\n",
        "\n",
        "# конкретный класс - булевое выражение _ AND _ с двумя переменными\n",
        "class AndExpression(BooleanExpression):\n",
        "    def __init__(self,a:BooleanExpression,b:BooleanExpression):\n",
        "        self.a = a\n",
        "        self.b = b\n",
        "\n",
        "    def __str__(self):\n",
        "      return f'({str(self.a)}) AND ({str(self.b)})'\n",
        "\n",
        "    def evaluate(self,context:Context):\n",
        "        return self.a.evaluate(context) & self.b.evaluate(context)\n",
        "    \n",
        "    def evaluate_show(self,context:Context):\n",
        "        return f'({self.a.evaluate_show(context)}) AND ({self.b.evaluate_show(context)})'\n",
        "\n",
        "    def copy(self):\n",
        "        return AndExpression(self.a.copy(), self.b.copy())\n",
        "\n",
        "    def replace(self, name, z:BooleanExpression):\n",
        "        return AndExpression(self.a.replace(name,z),self.b.replace(name,z))\n",
        "\n",
        "# конкретный класс - булевое выражение _ OR _ с двумя переменными\n",
        "class OrExpression(BooleanExpression):\n",
        "    def __init__(self,a:BooleanExpression,b:BooleanExpression):\n",
        "        self.a = a\n",
        "        self.b = b\n",
        "\n",
        "    def __str__(self):\n",
        "      return f'({str(self.a)}) OR ({str(self.b)})'\n",
        "\n",
        "    def evaluate(self,context:Context):\n",
        "        return self.a.evaluate(context) or self.b.evaluate(context)\n",
        "    \n",
        "    def evaluate_show(self,context:Context):\n",
        "        return f'({self.a.evaluate_show(context)}) OR ({self.b.evaluate_show(context)})'\n",
        "\n",
        "    def replace(self, name, z:BooleanExpression):\n",
        "        return OrExpression(self.a.replace(name,z),self.b.replace(name,z))\n",
        "\n",
        "# конкретный класс - булевое выражение NOT _ с одной переменной\n",
        "class NotExpression(BooleanExpression):\n",
        "    def __init__(self,a:BooleanExpression):\n",
        "        self.a = a\n",
        "\n",
        "    def __str__(self):\n",
        "      return f'NOT ({str(self.a)})'\n",
        "\n",
        "    def evaluate(self,context:Context):\n",
        "        return not self.a.evaluate((context))\n",
        "     \n",
        "    def evaluate_show(self,context:Context):\n",
        "        return f'NOT ({self.a.evaluate_show(context)})'\n",
        "\n",
        "    def replace(self, name, z:BooleanExpression):\n",
        "        return NotExpression(self.a.replace(name,z))\n",
        "\n",
        "\n",
        "\n",
        "# класс именованной переменной\n",
        "# 'A' | 'B' | 'C' | ...\n",
        "class VariableExpression(BooleanExpression):\n",
        "    def __init__(self, name):\n",
        "        self.name = name\n",
        "\n",
        "    def __str__(self):\n",
        "        return self.name \n",
        "\n",
        "    def evaluate(self,context:Context):\n",
        "        return context.look_up(self.name)\n",
        "\n",
        "    def evaluate_show(self,context:Context):\n",
        "        return str(context.look_up(self.name))\n",
        "\n",
        "    def copy(self):\n",
        "        return VariableExpression(self.name)\n",
        "\n",
        "    def replace(self, name, z:BooleanExpression):\n",
        "        if (name == self.name):\n",
        "            return z.copy()\n",
        "        else:\n",
        "            return VariableExpression(name)\n",
        "\n",
        "\n",
        "# Заведем новый конекст\n",
        "c = Context()\n",
        "# Зафиксируем две именованные переменные X и Y\n",
        "x = VariableExpression('X')\n",
        "y = VariableExpression('Y')\n",
        "# Запишем выражение Not(X) And Y\n",
        "exp = AndExpression(NotExpression(x),y)\n",
        "print(str(exp))\n",
        "\n",
        "# Подставим на место X значение False\n",
        "c.assign(x,False)\n",
        "# Подставим на место Y значение True\n",
        "c.assign(y,True)\n",
        "\n",
        "# выведем контекст\n",
        "print(c)\n",
        "\n",
        "# Выведем результат подсчета выражения\n",
        "print(exp.evaluate_show(c))\n",
        "print(exp.evaluate(c))\n",
        "\n",
        "# Введем новую именованную переменную Z\n",
        "z = VariableExpression('Z')\n",
        "# Запишем новое выражение, где на место Y встанет Z\n",
        "new_exp = exp.replace('Y',z)\n",
        "print(str(new_exp))\n",
        "# Подставим на место Z значение False\n",
        "c.assign(z,False)\n",
        "# выведем обновленный контекст\n",
        "print(c)\n",
        "# Выведем результат подсчета выражения\n",
        "print(new_exp.evaluate_show(c))\n",
        "print(new_exp.evaluate(c))"
      ]
    }
  ]
}