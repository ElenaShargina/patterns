{
  "nbformat": 4,
  "nbformat_minor": 0,
  "metadata": {
    "colab": {
      "provenance": [],
      "authorship_tag": "ABX9TyPqXJBQgqps2ANJ+8kYMkrK",
      "include_colab_link": true
    },
    "kernelspec": {
      "name": "python3",
      "display_name": "Python 3"
    },
    "language_info": {
      "name": "python"
    }
  },
  "cells": [
    {
      "cell_type": "markdown",
      "metadata": {
        "id": "view-in-github",
        "colab_type": "text"
      },
      "source": [
        "<a href=\"https://colab.research.google.com/github/ElenaShargina/patterns/blob/master/%D0%9F%D0%BE%D0%B2%D0%B5%D0%B4%D0%B5%D0%BD%D1%87%D0%B5%D1%81%D0%BA%D0%B8%D0%B5%20%D0%BF%D0%B0%D1%82%D1%82%D0%B5%D1%80%D0%BD%D1%8B/Observer.ipynb\" target=\"_parent\"><img src=\"https://colab.research.google.com/assets/colab-badge.svg\" alt=\"Open In Colab\"/></a>"
      ]
    },
    {
      "cell_type": "markdown",
      "source": [
        "# Observer / Наблюдатель\n",
        "Определяет зависимость типа \"один ко многим\" между объектами таким образом, что при изменении состояния одного объекта все зависящие от него оповещаются об этом и автоматически обновляются.\n",
        "Используется:\n",
        "- когда у абстракции есть два аспекта, один из которых зависит от другого. Инкапсуляции этих аспектов в разные объекты позволяют изменять и повторно использовать их независимо.\n",
        "- когда при модификации одногообъекта требуется изменить другие и вы не знаете, сколько именно объектов нужно изменить.\n",
        "- когда один объект должен оповещать других, не делая предположений об уведомляемых объектах. Другими словами, вы не хотите, чтобы объекты были тесно связаны между собой."
      ],
      "metadata": {
        "id": "4xmFS05Ky-fc"
      }
    },
    {
      "cell_type": "markdown",
      "source": [
        "## Пример реализации\n",
        "<img src='http://feana.ru/wp-content/uploads/2023/05/observer.png'>"
      ],
      "metadata": {
        "id": "_RhDbQ89z-Xk"
      }
    },
    {
      "cell_type": "code",
      "execution_count": 5,
      "metadata": {
        "id": "eLW9LENYyx1P",
        "colab": {
          "base_uri": "https://localhost:8080/"
        },
        "outputId": "c29c313f-c6f0-43c6-fd8f-973fde3106ac"
      },
      "outputs": [
        {
          "output_type": "stream",
          "name": "stdout",
          "text": [
            "Создаем объект для наблюдения - Таймер\n",
            "Таймер совершает действие и оповещает об этом наблюдателей.\n",
            "Создаем наблюдателей за Таймером:\n",
            "Календарь\n",
            "CALENDAR: 28.5.2023\n",
            "Часы:\n",
            "TIME: 16:37:12\n",
            "Таймер совершает действие и оповещает об этом наблюдателей.\n",
            "CALENDAR: 28.5.2023\n",
            "TIME: 16:37:17\n"
          ]
        }
      ],
      "source": [
        "import datetime, time\n",
        "# класс объекта для наблюдения. Содержит в себе список наблюдателей, которых надо оповещать об изменениях.\n",
        "class Subject:\n",
        "    def __init__(self):\n",
        "        self._observers = []\n",
        "\n",
        "    def attach(self,observer):\n",
        "        self._observers.append(observer)\n",
        "\n",
        "    def detach(self,observer):\n",
        "        index = self._observers.index(observer)\n",
        "        if index!=None:\n",
        "            self._observers.pop(index)\n",
        "\n",
        "    def notify(self):\n",
        "        for i in self._observers:\n",
        "            i.update(self)\n",
        "\n",
        "    def get_info(self):\n",
        "        pass\n",
        "\n",
        "# Класс-наблюдатель\n",
        "class Observer:\n",
        "    def __init__(self,subject:Subject):\n",
        "        subject.attach(self)\n",
        "        self.update(subject)\n",
        "\n",
        "    def update(self,subject:Subject):\n",
        "        pass\n",
        "\n",
        "# Подкласс объекта для наблюдения. Это будет таймер текущего времени.\n",
        "class Timer(Subject):\n",
        "    def tick(self):\n",
        "        self.time = datetime.datetime.now()\n",
        "        # print(self.time)\n",
        "        self.notify()\n",
        "\n",
        "    def get_info_time(self):\n",
        "        return (self.time.hour, self.time.minute, self.time.second)\n",
        "\n",
        "    def get_info_date(self):\n",
        "        return (self.time.day, self.time.month, self.time.year)\n",
        "\n",
        "# Подкласс наблюдателя - выводит таймер в виде цифровых часов.\n",
        "class DigitalClock(Observer):\n",
        "    def update(self,subject:Subject):\n",
        "        self.represent = 'TIME: ' + ':'.join([str(i) for i in subject.get_info_time()])\n",
        "\n",
        "    def draw(self):\n",
        "        print(self.represent)\n",
        "\n",
        "# Подкласс наблюдателя - выводит таймер в виде календаря.\n",
        "class Calendar(Observer):\n",
        "    def update(self,subject:Subject):\n",
        "        self.represent = 'CALENDAR: ' + '.'.join([str(i) for i in subject.get_info_date()])\n",
        "\n",
        "    def draw(self):\n",
        "        print(self.represent)\n",
        "\n",
        "print('Создаем объект для наблюдения - Таймер')\n",
        "timer = Timer()\n",
        "print('Таймер совершает действие и оповещает об этом наблюдателей.')\n",
        "timer.tick()\n",
        "print('Создаем наблюдателей за Таймером:')\n",
        "print('Календарь')\n",
        "calclock = Calendar(timer)\n",
        "calclock.draw()\n",
        "print('Часы:')\n",
        "dclock = DigitalClock(timer)\n",
        "dclock.draw()\n",
        "# засыпаем на некоторое время\n",
        "time.sleep(5)\n",
        "print('Таймер совершает действие и оповещает об этом наблюдателей.')\n",
        "timer.tick()\n",
        "calclock.draw()\n",
        "dclock.draw()\n"
      ]
    }
  ]
}