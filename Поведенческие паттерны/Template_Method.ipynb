{
  "nbformat": 4,
  "nbformat_minor": 0,
  "metadata": {
    "colab": {
      "provenance": [],
      "authorship_tag": "ABX9TyNl6eLTzj68twCG6hqTJbJ2",
      "include_colab_link": true
    },
    "kernelspec": {
      "name": "python3",
      "display_name": "Python 3"
    },
    "language_info": {
      "name": "python"
    }
  },
  "cells": [
    {
      "cell_type": "markdown",
      "metadata": {
        "id": "view-in-github",
        "colab_type": "text"
      },
      "source": [
        "<a href=\"https://colab.research.google.com/github/ElenaShargina/patterns/blob/master/%D0%9F%D0%BE%D0%B2%D0%B5%D0%B4%D0%B5%D0%BD%D1%87%D0%B5%D1%81%D0%BA%D0%B8%D0%B5%20%D0%BF%D0%B0%D1%82%D1%82%D0%B5%D1%80%D0%BD%D1%8B/Template_Method.ipynb\" target=\"_parent\"><img src=\"https://colab.research.google.com/assets/colab-badge.svg\" alt=\"Open In Colab\"/></a>"
      ]
    },
    {
      "cell_type": "markdown",
      "source": [
        "# Template Method / Шаблонный метод\n",
        "Шаблонный метод определяет основу алгоритма и позволяет подклассам переопределить некоторые шаги алгоритма, не изменяя его структуру в целом.Используется чтобы однократно использовать инвариантные части алгоритма, оставляя реализацию изменяющегося поведения на усмотрение подклассов."
      ],
      "metadata": {
        "id": "C3eCtlD52rvB"
      }
    },
    {
      "cell_type": "markdown",
      "source": [
        "## Пример реализации"
      ],
      "metadata": {
        "id": "_8ML-mOr3BCX"
      }
    },
    {
      "cell_type": "code",
      "execution_count": 12,
      "metadata": {
        "id": "8rvve2FA2lMy",
        "colab": {
          "base_uri": "https://localhost:8080/"
        },
        "outputId": "33a485ee-fbea-4f9d-a707-b46f5d364d15"
      },
      "outputs": [
        {
          "output_type": "stream",
          "name": "stdout",
          "text": [
            "Создадим приложение.\n",
            "Откроем документ.\n",
            "Document is not found. I will create it.\n",
            "MyApplication creates document.\n",
            "Saving document folder/somedoc.pdf\n",
            "Special reading from PDF file folder/somedoc.pdf.\n",
            "\n",
            "Откроем документ еще раз. Теперь он должен существовать\n",
            "Opening document folder/somedoc.pdf\n",
            "Special reading from PDF file folder/somedoc.pdf.\n",
            "\n",
            "Откроем документ не подходящего формата.\n",
            "Can not work with this type of file!\n",
            "\n",
            "Создадим другое приложение.\n",
            "Откроем документ.\n",
            "Document is not found. I will create it.\n",
            "TXTApplication creates document and does some extra staff.\n",
            "Saving document folder/somedoc.txt\n",
            "Special reading from PDF file folder/somedoc.txt.\n"
          ]
        }
      ],
      "source": [
        "import re\n",
        "# класс приложения с основой алгоритма работы с документами\n",
        "class Application:\n",
        "    def __init__(self):\n",
        "        self._docs = []\n",
        "\n",
        "    def add_document(self,doc):\n",
        "       self._docs.append(doc.path)\n",
        "\n",
        "    def document_exists(self,path):\n",
        "      if path in self._docs:\n",
        "        return True\n",
        "      else:\n",
        "        return False\n",
        "\n",
        "    # метод с основой алгоритма\n",
        "    def open_document(self,path):\n",
        "        # если приложение может обработать этот файл \n",
        "        if self.can_open_document(path):\n",
        "          # если файл существует\n",
        "          if self.document_exists(path):\n",
        "              doc = Document(path)\n",
        "              doc.open()\n",
        "              self.add_document(doc)\n",
        "              doc.do_read()\n",
        "          # если файл не существует \n",
        "          else:\n",
        "              self.about_to_create_document(path)\n",
        "              doc = self.do_create_document(path)\n",
        "              self.add_document(doc)\n",
        "              doc.do_read()\n",
        "        # если приложение не может обработать этот файл\n",
        "        else:\n",
        "          print('Can not work with this type of file!')\n",
        "\n",
        "\n",
        "    # абстрактный метод, должен быть переопределен в подклассе\n",
        "    def do_create_document(self,doc):\n",
        "        pass\n",
        "\n",
        "    # абстрактный метод, должен быть переопределен в подклассе\n",
        "    def can_open_document(self,doc):\n",
        "        pass\n",
        "\n",
        "    # абстрактный метод, должен быть переопределен в подклассе\n",
        "    def about_to_create_document(self, doc):\n",
        "        pass\n",
        "\n",
        "class MyApplication(Application):\n",
        "\n",
        "    def do_create_document(self,path):\n",
        "        print('MyApplication creates document.')\n",
        "        doc = Document(path)\n",
        "        doc.save()\n",
        "        return doc\n",
        "\n",
        "    def can_open_document(self,path):\n",
        "        if re.search(r'pdf$', path):\n",
        "            return True\n",
        "        else:\n",
        "            return False\n",
        "\n",
        "    def about_to_create_document(self, path):\n",
        "        print('Document is not found. I will create it.')\n",
        "\n",
        "\n",
        "class TXTApplication(Application):\n",
        "\n",
        "    def do_create_document(self,path):\n",
        "        print('TXTApplication creates document and does some extra staff.')\n",
        "        doc = Document(path)\n",
        "        doc.save()\n",
        "        return doc\n",
        "\n",
        "    def can_open_document(self,path):\n",
        "        if re.search(r'txt$', path):\n",
        "            return True\n",
        "        else:\n",
        "            return False\n",
        "\n",
        "    def about_to_create_document(self, path):\n",
        "        print('Document is not found. I will create it.')\n",
        "\n",
        "# класс для представления документа\n",
        "class Document:\n",
        "    def __init__(self,path):\n",
        "        self.path = path\n",
        "    def save(self):\n",
        "        print(f'Saving document {self.path}')\n",
        "\n",
        "    def open(self):\n",
        "        print(f'Opening document {self.path}')\n",
        "\n",
        "    def close(self):\n",
        "        print(f'Closing document {self.path}')\n",
        "\n",
        "    def do_read(self):\n",
        "        print(f'Special reading from PDF file {self.path}.')\n",
        "\n",
        "\n",
        "print('Создадим приложение.')\n",
        "myapp = MyApplication()\n",
        "print('Откроем документ.')\n",
        "myapp.open_document('folder/somedoc.pdf')\n",
        "\n",
        "print('\\nОткроем документ еще раз. Теперь он должен существовать')\n",
        "myapp.open_document('folder/somedoc.pdf')\n",
        "\n",
        "print('\\nОткроем документ не подходящего формата.')\n",
        "myapp.open_document('folder/somedoc.txt')\n",
        "\n",
        "print('\\nСоздадим другое приложение.')\n",
        "myapp = TXTApplication()\n",
        "print('Откроем документ.')\n",
        "myapp.open_document('folder/somedoc.txt')"
      ]
    }
  ]
}