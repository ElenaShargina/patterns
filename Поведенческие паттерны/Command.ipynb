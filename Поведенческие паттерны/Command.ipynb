{
  "nbformat": 4,
  "nbformat_minor": 0,
  "metadata": {
    "colab": {
      "provenance": [],
      "authorship_tag": "ABX9TyPmsfUQivoxD5AMX5GyTfmk",
      "include_colab_link": true
    },
    "kernelspec": {
      "name": "python3",
      "display_name": "Python 3"
    },
    "language_info": {
      "name": "python"
    }
  },
  "cells": [
    {
      "cell_type": "markdown",
      "metadata": {
        "id": "view-in-github",
        "colab_type": "text"
      },
      "source": [
        "<a href=\"https://colab.research.google.com/github/ElenaShargina/patterns/blob/master/%D0%9F%D0%BE%D0%B2%D0%B5%D0%B4%D0%B5%D0%BD%D1%87%D0%B5%D1%81%D0%BA%D0%B8%D0%B5%20%D0%BF%D0%B0%D1%82%D1%82%D0%B5%D1%80%D0%BD%D1%8B/Command.ipynb\" target=\"_parent\"><img src=\"https://colab.research.google.com/assets/colab-badge.svg\" alt=\"Open In Colab\"/></a>"
      ]
    },
    {
      "cell_type": "markdown",
      "source": [
        "# Command / Команда\n",
        "Инкапсулирует запрос как объект, позволяя тем самым задавать параметры клиентов для обработки соответствующих запросов, ставить запросы в очередь или протоколировать их, а также поддерживать отмену операций.\n",
        "\n",
        "Например - кнопки и меню не знают, кто будет обрабатывать их запросы. В реализации кнопок и меню\n",
        "нет действий, которые они должны инициировать."
      ],
      "metadata": {
        "id": "rywCja4_sS0c"
      }
    },
    {
      "cell_type": "markdown",
      "source": [
        "## Пример реализации"
      ],
      "metadata": {
        "id": "U3Aa-6nNsgSN"
      }
    },
    {
      "cell_type": "markdown",
      "source": [
        "<img src='http://feana.ru/wp-content/uploads/2023/05/command.png'>"
      ],
      "metadata": {
        "id": "-fvcN_MYdc4s"
      }
    },
    {
      "cell_type": "code",
      "execution_count": 10,
      "metadata": {
        "id": "ROscdRNdsQGV",
        "colab": {
          "base_uri": "https://localhost:8080/"
        },
        "outputId": "b2e883e3-cdef-4e24-af9d-8a06daae8e75"
      },
      "outputs": [
        {
          "output_type": "stream",
          "name": "stdout",
          "text": [
            "PRINT COMMAND (open/exit)\n",
            "open\n",
            "Enter the name of document...\n",
            "New doc\n",
            "New document New doc is created!\n",
            "Document \"New doc\": write some text...\n",
            "Text1\n",
            "Document New doc is rewritten: Text1\n",
            "Content of document New doc:\n",
            "Text1\n",
            "All documents: New doc.\n",
            "Current document: New doc\n",
            "PRINT COMMAND (open/rewrite/del/exit)\n",
            "open\n",
            "Enter the name of document...\n",
            "New doc2\n",
            "New document New doc2 is created!\n",
            "Document \"New doc2\": write some text...\n",
            "text2\n",
            "Document New doc2 is rewritten: text2\n",
            "Content of document New doc2:\n",
            "text2\n",
            "All documents: New doc, New doc2.\n",
            "Current document: New doc2\n",
            "PRINT COMMAND (open/rewrite/del/exit)\n",
            "rewrite\n",
            "Document \"New doc2\": write some text...\n",
            "new text in doc2\n",
            "Document New doc2 is rewritten: new text in doc2\n",
            "All documents: New doc, New doc2.\n",
            "Current document: New doc2\n",
            "PRINT COMMAND (open/rewrite/del/exit)\n",
            "exit\n",
            "Good bye!\n"
          ]
        }
      ],
      "source": [
        "# абстрактный класс комманды\n",
        "class Command():\n",
        "    history = []\n",
        "    def __init__(self,application):\n",
        "        self._app = application\n",
        "    def execute(self):\n",
        "        pass\n",
        "\n",
        "# класс конкретной команды\n",
        "# определяет связь между объектом-получателем команды (Document) и действием\n",
        "class OpenCommand(Command):\n",
        "    def execute(self):\n",
        "        name = input('Enter the name of document...\\n')\n",
        "        # если документ не существует, создаем новый\n",
        "        if hash(name) not in self._app.docs:\n",
        "            self._app.add_doc(Document(name))\n",
        "            print(f'New document {name} is created!')\n",
        "            self._app.docs[hash(name)].rewrite()\n",
        "            self._app.docs[hash(name)].show()\n",
        "        # если документ существует, открываем его\n",
        "        else:\n",
        "            self._app.docs[hash(name)].open()\n",
        "            self._app.docs[hash(name)].show()\n",
        "        self._app.current_doc = self._app.docs[hash(name)]\n",
        "\n",
        "# класс конкретной команды\n",
        "class RewriteCommand(Command):\n",
        "    def execute(self):\n",
        "        if self._app.current_doc == None:\n",
        "            print('Error: open some document!')\n",
        "        else:\n",
        "            self._app.current_doc.rewrite()\n",
        "\n",
        "# класс конкретной команды\n",
        "class DeleteCommand(Command):\n",
        "    def execute(self):\n",
        "        if self._app.current_doc == None:\n",
        "            print('Error: open some document!')\n",
        "        else:\n",
        "            # удаляем из списка документов приложения\n",
        "            self._app.delete_doc(self._app.current_doc.name)\n",
        "            # удаляем сам объект документа\n",
        "            self._app.current_doc.delete()\n",
        "            self._app.current_doc = None\n",
        "\n",
        "# получатель команды, располагает информацией о способах выполнения операций,\n",
        "# необходимых для удовлетворения запроса\n",
        "class Document:\n",
        "    def __init__(self,name):\n",
        "        self.name = name\n",
        "        self.text = ''\n",
        "\n",
        "    def open(self):\n",
        "        print(f'Document {self.name} is opened!')\n",
        "\n",
        "    def rewrite(self):\n",
        "        text = input(f'Document \"{self.name}\": write some text...\\n')\n",
        "        self.text = text\n",
        "        print(f'Document {self.name} is rewritten: {text}')\n",
        "\n",
        "    def show(self):\n",
        "        print(f'Content of document {self.name}:\\n{self.text}')\n",
        "\n",
        "    def close(self):\n",
        "        print(f'Document {self.name} is closed!')\n",
        "\n",
        "    def delete(self):\n",
        "        print(f'Document {self.name} is deleted!')\n",
        "        del(self)\n",
        "\n",
        "# инициатор команды, обращается к команде для выполнения запросы\n",
        "class MenuItem:\n",
        "    def __init__(self,command):\n",
        "        self._command = command\n",
        "\n",
        "    def click(self):\n",
        "        self._command.execute()\n",
        "\n",
        "# создает объект класса конкретной команды и устанавливает его получателя\n",
        "class Application:\n",
        "    def __init__(self):\n",
        "        self.docs = {}\n",
        "        self.menu_items={'open':MenuItem(OpenCommand(self)),\n",
        "                         'rewrite':MenuItem(RewriteCommand(self)),\n",
        "                         'del':MenuItem(DeleteCommand(self))}\n",
        "        self.current_doc = None\n",
        "\n",
        "    def add_doc(self,document):\n",
        "        self.docs[hash(document.name)]=document\n",
        "\n",
        "    def delete_doc(self,name):\n",
        "        self.docs.pop(hash(name))\n",
        "\n",
        "    def show_all_documents(self):\n",
        "        res = ('All documents: ')\n",
        "        res += ', '.join(list(map(lambda i: i.name, self.docs.values())))\n",
        "        res += '.'\n",
        "        print(res)\n",
        "      \n",
        "    def show_current_document(self):\n",
        "      print(f'Current document: {self.current_doc.name if self.current_doc else \"None\"}')\n",
        "\n",
        "if __name__=='__main__':\n",
        "    # клиент создает объект конкретной команды и устанавливает для него получателя\n",
        "    my_app = Application()\n",
        "    command = input('PRINT COMMAND (open/exit)\\n')\n",
        "    while command!='exit':\n",
        "        if command in my_app.menu_items.keys():\n",
        "          my_app.menu_items[command].click()\n",
        "          my_app.show_all_documents()\n",
        "          my_app.show_current_document()\n",
        "        else:\n",
        "          print(f'No command {command} is found. \\n')\n",
        "        command = input('PRINT COMMAND (open/rewrite/del/exit)\\n')\n",
        "    print('Good bye!')"
      ]
    }
  ]
}