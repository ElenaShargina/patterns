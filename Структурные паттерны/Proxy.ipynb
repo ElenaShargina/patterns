{
  "nbformat": 4,
  "nbformat_minor": 0,
  "metadata": {
    "colab": {
      "provenance": [],
      "authorship_tag": "ABX9TyPShTL97p6W4FXaZe8MMlV9",
      "include_colab_link": true
    },
    "kernelspec": {
      "name": "python3",
      "display_name": "Python 3"
    },
    "language_info": {
      "name": "python"
    }
  },
  "cells": [
    {
      "cell_type": "markdown",
      "metadata": {
        "id": "view-in-github",
        "colab_type": "text"
      },
      "source": [
        "<a href=\"https://colab.research.google.com/github/ElenaShargina/patterns/blob/master/%D0%A1%D1%82%D1%80%D1%83%D0%BA%D1%82%D1%83%D1%80%D0%BD%D1%8B%D0%B5%20%D0%BF%D0%B0%D1%82%D1%82%D0%B5%D1%80%D0%BD%D1%8B/Proxy.ipynb\" target=\"_parent\"><img src=\"https://colab.research.google.com/assets/colab-badge.svg\" alt=\"Open In Colab\"/></a>"
      ]
    },
    {
      "cell_type": "markdown",
      "source": [
        "# Proxy / Прокси, Заместитель, Суррогат\n",
        "Является суррогатом другого объекта и контролирует доступ к нему. \n",
        "\n"
      ],
      "metadata": {
        "id": "KWdPpPBul-Ly"
      }
    },
    {
      "cell_type": "markdown",
      "source": [
        "## Пример реализации\n",
        "<img src='http://feana.ru/wp-content/uploads/2023/05/proxy.png'>"
      ],
      "metadata": {
        "id": "1cHqHEYtnj2X"
      }
    },
    {
      "cell_type": "code",
      "execution_count": 1,
      "metadata": {
        "colab": {
          "base_uri": "https://localhost:8080/"
        },
        "id": "sjte4cvflypg",
        "outputId": "3e8b8ab9-e34a-40a1-b40e-1b6f3ce7b2ce"
      },
      "outputs": [
        {
          "output_type": "stream",
          "name": "stdout",
          "text": [
            "Generating new page...\n",
            "Z~_F/J.)^hQtX'\\n/`SDFN Z]baji\\WCP+K_~k)q_sJ>hKVhpi@%\"ymke;hKx=pPadCS{M{|VyC$%F;QrYwP{WssANjQ:U_{B&;KhHxUO|~X.SbBVc@MTr^]\n",
            "Generating new page...\n",
            "Aj&gj@zQHflZDC+Q#<$?Xa\\aeeiJK,MasZpFlSn*fPJFr#/ufwz]P&%+',oEMK;$]Df}&kt?WNB$nnRi,=;TWa*RBVTeuf\\fC*\\ZY-hCwq|l@ADgEQabS<e(\n",
            "Generating new page...\n",
            "{KR.Jjk)^:x=@<>FqI%bb!,#*Y{cbE,ZFW}=$gIYyTIya|JGvmSV:FVXF+x-TjvgkcC~op'_zL^RYiaVcLNS=K)I>^ZC_yvykxJyIexexZW itbWijLhlr^^\n",
            "Generating new page...\n",
            "A~~\\bN<!P_G!ffcjx[YZ/m|nEgH[y/gL'#--I;S\\kr@hIzl;*./(dbKN,?RlE@KWG pf!H\"YZyAWI)L\\j#CNl!<DtIa&Wn*x@.'#k,D/^o<r@;,^Pu\\hWotS\n",
            "Generating new page...\n",
            "o[vH\"L}!Ia=^UTirAS>D <\"_SV'cssNEl>+kXw{U]bh O^h&peu+z-,a>wY(Xnnh^TIjx\\.t;^`K~ A&cV/[Y..)(\\}I+ !Fggi~G[}:gobrCv*\\&ZZ\\GUt\\\n",
            "Generating new page...\n",
            ")n>CsSDjCr{*~XYV'|n'{-<|Qm*}Yb{CDb@a_[\"{xWHOis#wE}aLXTAL>ko+f]vd`S)<E/Mfoa=z)?LUT#[+.{Qv?rYv<o:MEV}?x@('\\X;C/'+(n^oF%Q;+\n",
            "Generating new page...\n",
            "o#>aQ}Be/kHFG/=aX;pVEPtk@u*l|P'[lrVqdi$w(j(vM}vRkf'.[EN{nP}y>hoDsP;%;pQXFtR(>s]SlC,KBbg.JS&g,G$:!Xf;`|~.XLM(Y TDw>;(foE$\n",
            "Generating new page...\n",
            "*bT{?Cv=wdmpePgjVLE|r}}. YRrP.d|ALt|X^`SSJ^We `W=d&\"(<%*jx:Qm(&^[>I=cp;;+:&uOV!V]wIR<Y@&$Qpl .:$h;;(SeKy\"S#JYb\\F=re@w(OZ\n",
            "Generating new page...\n",
            "%\"HHQ,JGfXN<ZY^%Fc'y\\ZQHk|*PolOqyO|UgNmKix}`#Ht&wU{bM$#~-m&PaZyS@XPY._{,qTsN>X^%/QCZ %eaQ\"F) mi{RQw!X!!=e%B~dI%FBhI h<^~\n",
            "{KR.Jjk)^:x=@<>FqI%bb!,#*Y{cbE,ZFW}=$gIYyTIya|JGvmSV:FVXF+x-TjvgkcC~op'_zL^RYiaVcLNS=K)I>^ZC_yvykxJyIexexZW itbWijLhlr^^\n"
          ]
        }
      ],
      "source": [
        "import random\n",
        "import string\n",
        "\n",
        "class Page:\n",
        "    def __init__(self,number,text):\n",
        "        self.number = number\n",
        "        self.text = text\n",
        "\n",
        "\"\"\"\n",
        "класс с обращением к базе данных либо тяжелой генерацией контента\n",
        "\"\"\"\n",
        "class RealBook:\n",
        "    def get_page(self,number):\n",
        "        print('Generating new page...')\n",
        "        text = ''.join([random.choice(string.ascii_letters+string.punctuation+' ') for x in range(120)])\n",
        "        return Page(number,text)\n",
        "\"\"\"\n",
        "класс-прокси, решающий, нужно ли запускать тяжелую генерацию или обращение к БД.\n",
        "Фактически - кеш страниц.\n",
        "\"\"\"\n",
        "class BookProxy(RealBook):\n",
        "    def __init__(self):\n",
        "        self._pages = {}\n",
        "        self._book = RealBook()\n",
        "\n",
        "    def get_page(self,number):\n",
        "        if number not in self._pages.keys():\n",
        "            self._pages[number] = self._book.get_page(number)\n",
        "        return self._pages[number]\n",
        "\n",
        "\"\"\"\n",
        "класс, с которым работает клиент. Клиент не видит прокси\n",
        "\"\"\"\n",
        "class Book:\n",
        "    def __init__(self):\n",
        "        self._proxy = BookProxy()\n",
        "\n",
        "    def get_page(self,number):\n",
        "        return self._proxy.get_page(number)\n",
        "\n",
        "\n",
        "\n",
        "b = Book()\n",
        "# обращаемся каждый раз к новой странице, они будут генерироваться\n",
        "for n in range(1,10):\n",
        "    p = b.get_page(n)\n",
        "    print(p.text)\n",
        "# обращаемся к уже запрошенной когда-то странице, \n",
        "# она не будет генерироваться заново, а возьмется из кеша\n",
        "p = b.get_page(3)\n",
        "print(p.text)"
      ]
    }
  ]
}