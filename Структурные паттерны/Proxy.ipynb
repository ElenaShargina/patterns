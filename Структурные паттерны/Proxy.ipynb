{
  "nbformat": 4,
  "nbformat_minor": 0,
  "metadata": {
    "colab": {
      "provenance": [],
      "authorship_tag": "ABX9TyOnxajUSmFRnLeRPT8DMai4",
      "include_colab_link": true
    },
    "kernelspec": {
      "name": "python3",
      "display_name": "Python 3"
    },
    "language_info": {
      "name": "python"
    }
  },
  "cells": [
    {
      "cell_type": "markdown",
      "metadata": {
        "id": "view-in-github",
        "colab_type": "text"
      },
      "source": [
        "<a href=\"https://colab.research.google.com/github/ElenaShargina/patterns/blob/master/%D0%A1%D1%82%D1%80%D1%83%D0%BA%D1%82%D1%83%D1%80%D0%BD%D1%8B%D0%B5%20%D0%BF%D0%B0%D1%82%D1%82%D0%B5%D1%80%D0%BD%D1%8B/Proxy.ipynb\" target=\"_parent\"><img src=\"https://colab.research.google.com/assets/colab-badge.svg\" alt=\"Open In Colab\"/></a>"
      ]
    },
    {
      "cell_type": "markdown",
      "source": [
        "# Proxy / Прокси, Заместитель, Суррогат\n",
        "Является суррогатом другого объекта и контролирует доступ к нему. \n",
        "\n"
      ],
      "metadata": {
        "id": "KWdPpPBul-Ly"
      }
    },
    {
      "cell_type": "markdown",
      "source": [
        "## Пример реализации\n",
        "<img src='http://feana.ru/wp-content/uploads/2023/05/proxy.png'>"
      ],
      "metadata": {
        "id": "1cHqHEYtnj2X"
      }
    },
    {
      "cell_type": "code",
      "execution_count": 3,
      "metadata": {
        "colab": {
          "base_uri": "https://localhost:8080/"
        },
        "id": "sjte4cvflypg",
        "outputId": "ec5fa140-bc60-4db5-afd8-c63cdd037175"
      },
      "outputs": [
        {
          "output_type": "stream",
          "name": "stdout",
          "text": [
            "Страница не найдена в кеше\n",
            "Generating new page...\n",
            "CMXakgoB(aaL{!-rbh'bq*:|CyO\\IMx;I$B=f,x+E-pRotOeR@sOD)`K}VFsYjR)NzH|kabJ%`z=:_Q<F_#bD>PT*|ON'w ~o^D Ni;@=x/Ku`GxKF>V;qc^\n",
            "Страница не найдена в кеше\n",
            "Generating new page...\n",
            "ubMV(k`<aP+>+L|Ygh',r.. bvVo:|KY%]!(<D`k$>NKy~E OULTfJ(SK,_h^]$&Cak;sr}GFH^An|YPPH$_?I)kiy_Zz+q%S&.*t!$Xf-+VD;?\\PKSR}bo*\n",
            "Страница не найдена в кеше\n",
            "Generating new page...\n",
            "b}Rk#gc}Ih~&K.xX%Q(Xw}[>|aM.C W)/;rSS)fmQP`P#@g[;YX}Wk]q=hPM]w|F#!Q#|#\\{ReJ=-^/G#W`H{POGU:|-NAL!E\"p\\fwU};hY-cyFskaQ%]zLg\n",
            "Страница не найдена в кеше\n",
            "Generating new page...\n",
            "CdRmjUQ~/fd#S/#{wkVZyu@{-\\x:WzLFbmcyyv\",V'o:l|OE/K- R(:YKJx%=NNUMMShL>aey;m+_\"gX,,=/-ajRHo;Z#I@~Yj`s#SzgD)?-N<SlTGL;~dr]\n",
            "Страница не найдена в кеше\n",
            "Generating new page...\n",
            "\"|Vi{b-k<Gy,\"BF}enS:C=&a<'zN[jNlJlf'oceKr_>_Y,o*}S:_@#]$C$!Qg)KwWyDSJk=m:TcHxOvA=:a~Ed.G^}qtGz#Q[%MaaX_x#-+He[|ZDePD|\"?b\n",
            "Страница не найдена в кеше\n",
            "Generating new page...\n",
            ";%V=QZsP}O.&~}*mCcz{ZV,@Euk[TjSWn$dHay&:Q~~{Q!tj(ZD:ekW.^c@!j?VFXI,#k(BLt\"~AfA;+i^MxWEhF%\\kc@tOr($l?MJbn-B=OFm\"ncL\"wZCLq\n",
            "Страница не найдена в кеше\n",
            "Generating new page...\n",
            "H[=+I:j-n[SUSb%WIROvJpQXTKH(<bDJ<RI<pvafBK;AyhUkL@CB(A#|Vph,HO&C&Yo}:FpoZldlV~Umf#uY b\\+`oAB[>u.w+|JSyWNn_@r]]>KS$:UmdFB\n",
            "Страница не найдена в кеше\n",
            "Generating new page...\n",
            "\\g+,}<+N\\yng][f%JpyPa ?ul[LVwh}AKMh#URhz\\eZI:&YmH`>tV,y`@bwFnfhaw-Q?<UNYdW,zF/ULuv[~CQ+.[WgEflZ/XS;];f#vb+_/.'tf|jKY'\\vx\n",
            "Страница не найдена в кеше\n",
            "Generating new page...\n",
            "fi{ g?X&~w/WdQ`<'+}E ]y^{|h#$iE;#ig\"ASTiu-'k<{:/@?BUcD`&N=K{u r`ZW{sCCN*\"l[xx\\Trk'E\\(<+e+p^iC>s=S/c+ a'.\\)n?amgRojEzrp.\"\n",
            "Страница найдена в кеше\n",
            "b}Rk#gc}Ih~&K.xX%Q(Xw}[>|aM.C W)/;rSS)fmQP`P#@g[;YX}Wk]q=hPM]w|F#!Q#|#\\{ReJ=-^/G#W`H{POGU:|-NAL!E\"p\\fwU};hY-cyFskaQ%]zLg\n"
          ]
        }
      ],
      "source": [
        "import random\n",
        "import string\n",
        "\n",
        "class Page:\n",
        "    def __init__(self,number,text):\n",
        "        self.number = number\n",
        "        self.text = text\n",
        "\n",
        "\"\"\"\n",
        "класс с обращением к базе данных либо тяжелой генерацией контента\n",
        "\"\"\"\n",
        "class RealBook:\n",
        "    def get_page(self,number):\n",
        "        print('Генерируем новую страницу...')\n",
        "        text = ''.join([random.choice(string.ascii_letters+string.punctuation+' ') for x in range(120)])\n",
        "        return Page(number,text)\n",
        "\"\"\"\n",
        "класс-прокси, решающий, нужно ли запускать тяжелую генерацию или обращение к БД.\n",
        "Фактически - кеш страниц.\n",
        "\"\"\"\n",
        "class BookProxy(RealBook):\n",
        "    def __init__(self):\n",
        "        self._pages = {}\n",
        "        self._book = RealBook()\n",
        "\n",
        "    def get_page(self,number):\n",
        "        if number not in self._pages.keys():\n",
        "            print('Страница не найдена в кеше')\n",
        "            self._pages[number] = self._book.get_page(number)\n",
        "        else:\n",
        "            print('Страница найдена в кеше')\n",
        "        return self._pages[number]\n",
        "\n",
        "\"\"\"\n",
        "класс, с которым работает клиент. Клиент не видит прокси\n",
        "\"\"\"\n",
        "class Book:\n",
        "    def __init__(self):\n",
        "        self._proxy = BookProxy()\n",
        "\n",
        "    def get_page(self,number):\n",
        "        return self._proxy.get_page(number)\n",
        "\n",
        "\n",
        "\n",
        "b = Book()\n",
        "# обращаемся каждый раз к новой странице, они будут генерироваться\n",
        "for n in range(1,10):\n",
        "    p = b.get_page(n)\n",
        "    print(p.text)\n",
        "# обращаемся к уже запрошенной когда-то странице, \n",
        "# она не будет генерироваться заново, а возьмется из кеша\n",
        "p = b.get_page(3)\n",
        "print(p.text)"
      ]
    }
  ]
}