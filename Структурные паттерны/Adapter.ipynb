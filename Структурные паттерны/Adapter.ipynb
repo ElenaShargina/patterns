{
  "nbformat": 4,
  "nbformat_minor": 0,
  "metadata": {
    "colab": {
      "provenance": [],
      "authorship_tag": "ABX9TyPtQZOPpRzBi0KxLk7s7Kpr",
      "include_colab_link": true
    },
    "kernelspec": {
      "name": "python3",
      "display_name": "Python 3"
    },
    "language_info": {
      "name": "python"
    }
  },
  "cells": [
    {
      "cell_type": "markdown",
      "metadata": {
        "id": "view-in-github",
        "colab_type": "text"
      },
      "source": [
        "<a href=\"https://colab.research.google.com/github/ElenaShargina/patterns/blob/master/%D0%A1%D1%82%D1%80%D1%83%D0%BA%D1%82%D1%83%D1%80%D0%BD%D1%8B%D0%B5%20%D0%BF%D0%B0%D1%82%D1%82%D0%B5%D1%80%D0%BD%D1%8B/Adapter.ipynb\" target=\"_parent\"><img src=\"https://colab.research.google.com/assets/colab-badge.svg\" alt=\"Open In Colab\"/></a>"
      ]
    },
    {
      "cell_type": "markdown",
      "source": [
        "# Adapter / Адаптер\n",
        "Преобразует интерфейс одного класса в интерфейс другого, который ожидают клиенты. Паттерн обеспечивает совместную работу классов с несовместимыми интерфейсами, которая без него была бы невозможна"
      ],
      "metadata": {
        "id": "YvMQayHLMQoT"
      }
    },
    {
      "cell_type": "markdown",
      "source": [
        "## Пример реализации"
      ],
      "metadata": {
        "id": "XA_aetIPNn78"
      }
    },
    {
      "cell_type": "markdown",
      "source": [
        "<img src='http://feana.ru/wp-content/uploads/2023/05/adapter.png'/>"
      ],
      "metadata": {
        "id": "c7mUkpUhNfRi"
      }
    },
    {
      "cell_type": "code",
      "execution_count": 3,
      "metadata": {
        "colab": {
          "base_uri": "https://localhost:8080/"
        },
        "id": "IT_BsPssMGuz",
        "outputId": "60c94928-1fe3-4648-d58a-b9d0400b71cc"
      },
      "outputs": [
        {
          "output_type": "stream",
          "name": "stdout",
          "text": [
            "Машина едет!\n",
            "Верблюд бежит!\n",
            "Машина едет!\n"
          ]
        }
      ],
      "source": [
        "class TransportAdapter:\n",
        "    def go(self):\n",
        "        pass\n",
        "\n",
        "class AutoAdapter(TransportAdapter):\n",
        "    def go(self):\n",
        "        self.drive()\n",
        "\n",
        "class Auto(AutoAdapter):\n",
        "    def drive(self):\n",
        "        print('Машина едет!')\n",
        "\n",
        "class CamelAdapter(TransportAdapter):\n",
        "    def go(self):\n",
        "        self.run()\n",
        "\n",
        "class Camel(CamelAdapter):\n",
        "    def run(self):\n",
        "        print('Верблюд бежит!')\n",
        "\n",
        "class Driver:\n",
        "    def travel(self,transport: TransportAdapter):\n",
        "        transport.go()\n",
        "\n",
        "if __name__=='__main__':\n",
        "    d = Driver()\n",
        "    auto = Auto()\n",
        "    camel = Camel()\n",
        "    d.travel(auto)\n",
        "    d.travel(camel)\n",
        "    d.travel(auto)"
      ]
    }
  ]
}