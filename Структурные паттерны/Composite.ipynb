{
  "nbformat": 4,
  "nbformat_minor": 0,
  "metadata": {
    "colab": {
      "provenance": [],
      "authorship_tag": "ABX9TyPLoD/5Y4FM0I6HSL0P0HMe",
      "include_colab_link": true
    },
    "kernelspec": {
      "name": "python3",
      "display_name": "Python 3"
    },
    "language_info": {
      "name": "python"
    }
  },
  "cells": [
    {
      "cell_type": "markdown",
      "metadata": {
        "id": "view-in-github",
        "colab_type": "text"
      },
      "source": [
        "<a href=\"https://colab.research.google.com/github/ElenaShargina/patterns/blob/master/%D0%A1%D1%82%D1%80%D1%83%D0%BA%D1%82%D1%83%D1%80%D0%BD%D1%8B%D0%B5%20%D0%BF%D0%B0%D1%82%D1%82%D0%B5%D1%80%D0%BD%D1%8B/Composite.ipynb\" target=\"_parent\"><img src=\"https://colab.research.google.com/assets/colab-badge.svg\" alt=\"Open In Colab\"/></a>"
      ]
    },
    {
      "cell_type": "markdown",
      "source": [
        "# Composite / Компоновщик\n",
        "Паттерн компонует объекты в древовидные структуры для представления иерархий \"часть-целое\". Позволяет клиентам единообразно трактовать индивидуальные и составные объекты."
      ],
      "metadata": {
        "id": "0C5rCIYWREMr"
      }
    },
    {
      "cell_type": "markdown",
      "source": [
        "## Пример реализации\n",
        "Построим иерархию распределения мебели по отделам и комнатам"
      ],
      "metadata": {
        "id": "4S_4L9dHSEuS"
      }
    },
    {
      "cell_type": "markdown",
      "source": [
        "<img src='http://feana.ru/wp-content/uploads/2023/05/composite.png'/>"
      ],
      "metadata": {
        "id": "fTBZg8nHSCWS"
      }
    },
    {
      "cell_type": "code",
      "execution_count": 9,
      "metadata": {
        "colab": {
          "base_uri": "https://localhost:8080/"
        },
        "id": "dAEBKY8MRCK6",
        "outputId": "4d866670-902c-478a-e746-c0c292d64ed2"
      },
      "outputs": [
        {
          "output_type": "stream",
          "name": "stdout",
          "text": [
            "ПРЕДПРИЯТИЕ:\n",
            "-ОТДЕЛ ПЛАНИРОВАНИЯ:\n",
            "--Название: стол, вес: 120 кг\n",
            "--Название: диван, вес: 230 кг\n",
            "-ОТДЕЛ РЕАЛИЗАЦИИ:\n",
            "--Название: шкаф, вес: 400 кг\n",
            "--ОФИС 10:\n",
            "---Название: тумбочка, вес: 40 кг\n",
            "\n",
            "Суммарный вес всей мебели:  800 \n",
            "\n",
            "\n",
            "Удаляем стул...\n",
            "ПРЕДПРИЯТИЕ:\n",
            "-ОТДЕЛ ПЛАНИРОВАНИЯ:\n",
            "--Название: стол, вес: 120 кг\n",
            "--Название: диван, вес: 230 кг\n",
            "-ОТДЕЛ РЕАЛИЗАЦИИ:\n",
            "--Название: шкаф, вес: 400 кг\n",
            "--ОФИС 10:\n",
            "---Название: тумбочка, вес: 40 кг\n",
            "\n",
            "Суммарный вес всей мебели:  790 \n",
            "\n",
            "\n",
            "Считаем суммарный вес всей мебели в отделе реализации: 440\n"
          ]
        }
      ],
      "source": [
        "# класс представляющий поддерево (собрание предметов)\n",
        "class Component:\n",
        "    def __init__(self,name):\n",
        "        self.name = name\n",
        "        self.children = []\n",
        "\n",
        "    def add(self,instance):\n",
        "        self.children = self.children + [instance,]\n",
        "\n",
        "    def delete(self, instance):\n",
        "        if instance in self.children:\n",
        "            self.children.remove(instance)\n",
        "            return True\n",
        "        else:\n",
        "            result = False\n",
        "            for i in self.children:\n",
        "                result = i.delete(instance)\n",
        "                if result == True:\n",
        "                    break\n",
        "            return result\n",
        "\n",
        "    def display(self,tab=''):\n",
        "        res = tab+self.name.upper()+':\\n'\n",
        "        for i in self.children:\n",
        "            res += i.display(tab+'-')\n",
        "        return res\n",
        "\n",
        "# класс представляющий только конечный лист дерева (предмет)\n",
        "class Leaf(Component):\n",
        "    def __init__(self,name,weight):\n",
        "        self.name = name\n",
        "        self.weight = weight\n",
        "\n",
        "    def display(self,tab=''):\n",
        "        return f'{tab}Название: {self.name}, вес: {self.weight} кг\\n'\n",
        "\n",
        "    def delete(self, instance):\n",
        "        return False\n",
        "\n",
        "# класс-компоновщик, позволяющий обрабатывать листья и поддеревья - подсчитывать вес мебели \n",
        "class Composite(Component):\n",
        "    def __init__(self,name, children=[]):\n",
        "        self.name = name\n",
        "        self.children = children\n",
        "\n",
        "    # свойство , позволяющее подсчитать суммарный вес мебели в дереве или поддеревьях\n",
        "    @property\n",
        "    def weight(self):\n",
        "        res = 0\n",
        "        for i in self.children:\n",
        "            res += i.weight\n",
        "        return res\n",
        "\n",
        "    @weight.setter\n",
        "    def weight(self,new_weight):\n",
        "        raise Exception('You can not assign weight to bunch of leaves.')\n",
        "\n",
        "\n",
        "\n",
        "root = Composite('Предприятие')\n",
        "leaf = Leaf('стул',10)\n",
        "subtree = Composite('Отдел планирования',[Leaf('стол',120),Leaf('диван',230)])\n",
        "root.add(subtree)\n",
        "subtree2 = Composite('Отдел реализации',[Leaf('шкаф',400),Composite('Офис 10',[leaf,Leaf('тумбочка',40)]),])\n",
        "root.add(subtree2)\n",
        "\n",
        "print(root.display())\n",
        "print('Суммарный вес всей мебели: ', root.weight, '\\n\\n')\n",
        "\n",
        "print('Удаляем стул...')\n",
        "root.delete(leaf)\n",
        "print(root.display())\n",
        "print('Суммарный вес всей мебели: ', root.weight, '\\n\\n')\n",
        "\n",
        "print('Считаем суммарный вес всей мебели в отделе реализации:', subtree2.weight)"
      ]
    }
  ]
}