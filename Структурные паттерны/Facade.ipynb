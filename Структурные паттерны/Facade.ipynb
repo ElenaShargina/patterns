{
  "nbformat": 4,
  "nbformat_minor": 0,
  "metadata": {
    "colab": {
      "provenance": [],
      "authorship_tag": "ABX9TyMPw6rHg8vQBiknNtaSbIJm",
      "include_colab_link": true
    },
    "kernelspec": {
      "name": "python3",
      "display_name": "Python 3"
    },
    "language_info": {
      "name": "python"
    }
  },
  "cells": [
    {
      "cell_type": "markdown",
      "metadata": {
        "id": "view-in-github",
        "colab_type": "text"
      },
      "source": [
        "<a href=\"https://colab.research.google.com/github/ElenaShargina/patterns/blob/master/%D0%A1%D1%82%D1%80%D1%83%D0%BA%D1%82%D1%83%D1%80%D0%BD%D1%8B%D0%B5%20%D0%BF%D0%B0%D1%82%D1%82%D0%B5%D1%80%D0%BD%D1%8B/Facade.ipynb\" target=\"_parent\"><img src=\"https://colab.research.google.com/assets/colab-badge.svg\" alt=\"Open In Colab\"/></a>"
      ]
    },
    {
      "cell_type": "markdown",
      "source": [
        "# Facade / Фасад\n",
        "Предоставляет унифицированный интерфейс вместо набора интерфейсов некоторой подсистемы. Фасад определяет интерфейс более высокого уровня, который упрощает использование подсистемы."
      ],
      "metadata": {
        "id": "SdUZn3UuZdem"
      }
    },
    {
      "cell_type": "markdown",
      "source": [
        "## Пример реализации\n",
        "В качестве фасада выступает класс \"IDE\", управляющий подсистемами \"Compiler\", \"TextEditor\", \"Debugger\". Например, в IDE есть метод text_and_debug, запускающий и текстовый редактор TextEditor, и Дебаггер Debugger.\n",
        "<img src='http://feana.ru/wp-content/uploads/2023/05/facade-e1685263235888.png'>"
      ],
      "metadata": {
        "id": "2IBBzyXbZ_NJ"
      }
    },
    {
      "cell_type": "code",
      "execution_count": 2,
      "metadata": {
        "colab": {
          "base_uri": "https://localhost:8080/"
        },
        "id": "js34bPrVZVOB",
        "outputId": "82dc43cc-0eb7-45d1-b854-4555a80b649e"
      },
      "outputs": [
        {
          "output_type": "stream",
          "name": "stdout",
          "text": [
            "Запускаем метод IDE \"Набрать код и запустить его дебаг\"\n",
            "Набор кода\n",
            "Проверка кода\n",
            "Дебаг кода\n",
            "Запускаем метод IDE \"Запустить дебаг кода и скомпилировать его\"\n",
            "Дебаг кода\n",
            "Компилирование кода\n",
            "Дебаг кода\n"
          ]
        }
      ],
      "source": [
        "# Классы подсистемы реализуют функциональность подсистемы,\n",
        "# ничего не знают о существовании фасада, не хранят ссылок на него\n",
        "class Compiler:\n",
        "    def compile(self):\n",
        "        print('Компилирование кода')\n",
        "\n",
        "class TextEditor:\n",
        "    def textit(self):\n",
        "        print('Набор кода')\n",
        "    def checkit(self):\n",
        "        print('Проверка кода')\n",
        "\n",
        "class Debugger:\n",
        "    def debug(self):\n",
        "        print('Дебаг кода')\n",
        "\n",
        "# класс-фасад, организующий работу с разветвленной подсистемой\n",
        "# класс знает, каким подсистемам адресовать запрос\n",
        "class IDE:\n",
        "    def __init__(self):\n",
        "        self.compiler = Compiler()\n",
        "        self.texteditor = TextEditor()\n",
        "        self.debugger = Debugger()\n",
        "\n",
        "    def text_and_debug(self):\n",
        "        print('Запускаем метод IDE \"Набрать код и запустить его дебаг\"')\n",
        "        self.texteditor.textit()\n",
        "        self.texteditor.checkit()\n",
        "        self.debugger.debug()\n",
        "\n",
        "    def debug_and_compile(self):\n",
        "        print('Запускаем метод IDE \"Запустить дебаг кода и скомпилировать его\"')\n",
        "        self.debugger.debug()\n",
        "        self.compiler.compile()\n",
        "\n",
        "\n",
        "\n",
        "x = IDE()\n",
        "x.text_and_debug()\n",
        "x.debug_and_compile()\n",
        "x.debugger.debug()\n"
      ]
    }
  ]
}