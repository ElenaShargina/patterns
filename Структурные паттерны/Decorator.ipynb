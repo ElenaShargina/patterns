{
  "nbformat": 4,
  "nbformat_minor": 0,
  "metadata": {
    "colab": {
      "provenance": [],
      "authorship_tag": "ABX9TyOnpyT1I9s1VW9iQalrZcFD",
      "include_colab_link": true
    },
    "kernelspec": {
      "name": "python3",
      "display_name": "Python 3"
    },
    "language_info": {
      "name": "python"
    }
  },
  "cells": [
    {
      "cell_type": "markdown",
      "metadata": {
        "id": "view-in-github",
        "colab_type": "text"
      },
      "source": [
        "<a href=\"https://colab.research.google.com/github/ElenaShargina/patterns/blob/master/%D0%A1%D1%82%D1%80%D1%83%D0%BA%D1%82%D1%83%D1%80%D0%BD%D1%8B%D0%B5%20%D0%BF%D0%B0%D1%82%D1%82%D0%B5%D1%80%D0%BD%D1%8B/Decorator.ipynb\" target=\"_parent\"><img src=\"https://colab.research.google.com/assets/colab-badge.svg\" alt=\"Open In Colab\"/></a>"
      ]
    },
    {
      "cell_type": "markdown",
      "source": [
        "# Decorator / Декоратор\n",
        "Паттерн динамически добавляет объекту новые обязанности. Является гибкой альтернативой порождению классов с целью расширения функцинальности."
      ],
      "metadata": {
        "id": "rWylOJH1WTtX"
      }
    },
    {
      "cell_type": "markdown",
      "source": [
        "## Пример реализации\n",
        "<img src='http://feana.ru/wp-content/uploads/2023/05/decorator.png'>"
      ],
      "metadata": {
        "id": "79xgVQdIXGyh"
      }
    },
    {
      "cell_type": "code",
      "execution_count": 4,
      "metadata": {
        "colab": {
          "base_uri": "https://localhost:8080/"
        },
        "id": "TOG26hn3VueY",
        "outputId": "930bc460-789d-4099-dc84-89ec1c980ad9"
      },
      "outputs": [
        {
          "output_type": "stream",
          "name": "stdout",
          "text": [
            "Ivan Ivanov\n",
            "++++\n",
            "Ivan Ivanov\n",
            "++++\n",
            "----\n",
            "Ivan Ivanov\n",
            "----\n",
            "++++\n",
            "----\n",
            "----\n",
            "Petr Petrov\n",
            "----\n",
            "----\n",
            "++++\n"
          ]
        }
      ],
      "source": [
        "# класс реализации хранения и вывода записи о человеке\n",
        "class Component:\n",
        "    def __init__(self,name,surname):\n",
        "        self.name = name\n",
        "        self.surname = surname\n",
        "\n",
        "    def draw(self):\n",
        "        return self.name+' '+self.surname\n",
        "\n",
        "# общий предок декораторов, пока никак не обрамляющий запись \n",
        "class Decorator(Component):\n",
        "    def __init__(self,component:Component):\n",
        "        self._component = component\n",
        "\n",
        "    def draw(self):\n",
        "        return self._component.draw()\n",
        "\n",
        "# декоратор, обрамляющий запись в плюсики\n",
        "class PlusDecorator(Decorator):\n",
        "    def draw(self):\n",
        "        return '++++\\n'+self._component.draw()+'\\n++++'\n",
        "\n",
        "# декоратор, обрамляющий запись в минусики\n",
        "class MinusDecorator(Decorator):\n",
        "    def draw(self):\n",
        "        return '----\\n' + self._component.draw() + '\\n----'\n",
        "\n",
        "\n",
        "c = Component('Ivan', 'Ivanov')\n",
        "print(c.draw())\n",
        "pdc = PlusDecorator(c)\n",
        "print(pdc.draw())\n",
        "mdc = MinusDecorator(c)\n",
        "print(mdc.draw())\n",
        "w = PlusDecorator(MinusDecorator(MinusDecorator(Component('Petr','Petrov'))))\n",
        "print(w.draw())"
      ]
    }
  ]
}