{
  "nbformat": 4,
  "nbformat_minor": 0,
  "metadata": {
    "colab": {
      "provenance": [],
      "authorship_tag": "ABX9TyN/Iwv3RVW8Jj/9F+AMyjh5",
      "include_colab_link": true
    },
    "kernelspec": {
      "name": "python3",
      "display_name": "Python 3"
    },
    "language_info": {
      "name": "python"
    }
  },
  "cells": [
    {
      "cell_type": "markdown",
      "metadata": {
        "id": "view-in-github",
        "colab_type": "text"
      },
      "source": [
        "<a href=\"https://colab.research.google.com/github/ElenaShargina/patterns/blob/master/%D0%A1%D1%82%D1%80%D1%83%D0%BA%D1%82%D1%83%D1%80%D0%BD%D1%8B%D0%B5%20%D0%BF%D0%B0%D1%82%D1%82%D0%B5%D1%80%D0%BD%D1%8B/Bridge.ipynb\" target=\"_parent\"><img src=\"https://colab.research.google.com/assets/colab-badge.svg\" alt=\"Open In Colab\"/></a>"
      ]
    },
    {
      "cell_type": "markdown",
      "source": [
        "# Bridge / Мост\n",
        "Паттерн, позволяющий отделить абстракцию от ее реализации, чтобы и то, и другое можно было изменять независимо."
      ],
      "metadata": {
        "id": "51E0a7lDPUPu"
      }
    },
    {
      "cell_type": "markdown",
      "source": [
        "## Пример реализации"
      ],
      "metadata": {
        "id": "riOzvHUeQLXV"
      }
    },
    {
      "cell_type": "markdown",
      "source": [
        "<img src='http://feana.ru/wp-content/uploads/2023/05/bridge.png'/>"
      ],
      "metadata": {
        "id": "bvaQEiRvQGeh"
      }
    },
    {
      "cell_type": "code",
      "execution_count": 3,
      "metadata": {
        "colab": {
          "base_uri": "https://localhost:8080/"
        },
        "id": "d8dXffwoPRoc",
        "outputId": "69fca9db-4f2a-4086-ad5d-d58a5ec93194"
      },
      "outputs": [
        {
          "output_type": "stream",
          "name": "stdout",
          "text": [
            "\n",
            "Начинаем работу как фрилансер.\n",
            "Пишем на C++ программу AAA игра.\n",
            "Компилируем программу AAA игра на C++.\n",
            "Получаем деньги за заказ AAA игра.\n",
            "\n",
            "Работаем в корпорации.\n",
            "Пишем на Python программу САЙТ МАГАЗИНА.\n",
            "Запускаем программу САЙТ МАГАЗИНА на Python.\n",
            "Получаем зарплату в конце месяца.\n"
          ]
        }
      ],
      "source": [
        "# имплементатор\n",
        "class ILanguage:\n",
        "    def build(self,product):\n",
        "        pass\n",
        "    def execute(self,product):\n",
        "        pass\n",
        "\n",
        "# конкретный имплементатор 1\n",
        "class CPPLanguage(ILanguage):\n",
        "    def build(self,product):\n",
        "        print(f'Пишем на C++ программу {product}.')\n",
        "    def execute(self,product):\n",
        "        print(f'Компилируем программу {product} на C++.')\n",
        "\n",
        "# конкретный имплементатор 2\n",
        "class PythonLanguage(ILanguage):\n",
        "    def build(self,product):\n",
        "        print(f'Пишем на Python программу {product}.')\n",
        "    def execute(self,product):\n",
        "        print(f'Запускаем программу {product} на Python.')\n",
        "\n",
        "# Абстракция\n",
        "class Programmer:\n",
        "    def __init__(self,language: ILanguage,project:str):\n",
        "        self.language = language\n",
        "        self.project = project\n",
        "    def work(self):\n",
        "        pass\n",
        "    def earn(self):\n",
        "        pass\n",
        "\n",
        "# Уточненная абстракция 1\n",
        "class FreelanceProgrammer(Programmer):\n",
        "    def work(self):\n",
        "        print('\\nНачинаем работу как фрилансер.')\n",
        "        self.language.build(self.project)\n",
        "        self.language.execute(self.project)\n",
        "    def earn(self):\n",
        "        print(f'Получаем деньги за заказ {self.project}.')\n",
        "\n",
        "# Уточненная абстракция 2\n",
        "class CorporateProgrammer(Programmer):\n",
        "    def work(self):\n",
        "        print('\\nРаботаем в корпорации.')\n",
        "        self.language.build(self.project)\n",
        "        self.language.execute(self.project)\n",
        "    def earn(self):\n",
        "        print('Получаем зарплату в конце месяца.')\n",
        "\n",
        "\n",
        "fr = FreelanceProgrammer(CPPLanguage(), 'AAA игра')\n",
        "fr.work()\n",
        "fr.earn()\n",
        "cp = CorporateProgrammer(PythonLanguage(), 'САЙТ МАГАЗИНА')\n",
        "cp.work()\n",
        "cp.earn()"
      ]
    }
  ]
}