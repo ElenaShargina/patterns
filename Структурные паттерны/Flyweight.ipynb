{
  "nbformat": 4,
  "nbformat_minor": 0,
  "metadata": {
    "colab": {
      "provenance": [],
      "authorship_tag": "ABX9TyNSmThmMgeESCfcCjxBpIFO",
      "include_colab_link": true
    },
    "kernelspec": {
      "name": "python3",
      "display_name": "Python 3"
    },
    "language_info": {
      "name": "python"
    }
  },
  "cells": [
    {
      "cell_type": "markdown",
      "metadata": {
        "id": "view-in-github",
        "colab_type": "text"
      },
      "source": [
        "<a href=\"https://colab.research.google.com/github/ElenaShargina/patterns/blob/master/%D0%A1%D1%82%D1%80%D1%83%D0%BA%D1%82%D1%83%D1%80%D0%BD%D1%8B%D0%B5%20%D0%BF%D0%B0%D1%82%D1%82%D0%B5%D1%80%D0%BD%D1%8B/Flyweight.ipynb\" target=\"_parent\"><img src=\"https://colab.research.google.com/assets/colab-badge.svg\" alt=\"Open In Colab\"/></a>"
      ]
    },
    {
      "cell_type": "markdown",
      "source": [
        "# Flyweight / Приспособленец\n",
        "\n",
        "Использует разделение для эффективной поддержки множества мелких объектов.\n",
        "Используется, если\n",
        "- в приложении большое число объектов\n",
        "- из-за этого накладные расходы на хранение высоки\n",
        "- большую часть состояния объектов можно вынести вовне\n",
        "- многие группы объектов можно заменить относительно небольшим количеством разделяемых объектов, поскольку внешнее состояние вынесено\n",
        "- приложение не зависит от идентичности объекта. Поскольку объекты-приспособленцы могут разделяться, то проверка на идентичность возвратит \"истину\" для концептуально различных объектов."
      ],
      "metadata": {
        "id": "qEXIrA_Rialo"
      }
    },
    {
      "cell_type": "markdown",
      "source": [
        "## Пример реализации"
      ],
      "metadata": {
        "id": "hEjfBCLTjKg5"
      }
    },
    {
      "cell_type": "markdown",
      "source": [
        "<img src='http://feana.ru/wp-content/uploads/2023/05/flyweight.png'>"
      ],
      "metadata": {
        "id": "LbC8YUWuk-cz"
      }
    },
    {
      "cell_type": "code",
      "execution_count": 4,
      "metadata": {
        "colab": {
          "base_uri": "https://localhost:8080/"
        },
        "id": "ZbHulTkqiYnc",
        "outputId": "f7e9f98a-9c7d-4c6a-b8c3-76e3f1f75e8a"
      },
      "outputs": [
        {
          "output_type": "stream",
          "name": "stdout",
          "text": [
            "Panel house id=139666461063104  of 4 floors is build at (12.45,13.78)\n",
            "Panel house id=139666461056624  of 1 floors is build at (13.45,14.78)\n",
            "Panel house id=139666461061856  of 2 floors is build at (15.45,16.78)\n",
            "Panel house id=139666461061856  of 2 floors is build at (18.45,19.78)\n",
            "Panel house id=139666461063104  of 4 floors is build at (22.45,23.78)\n",
            "Panel house id=139666461056624  of 1 floors is build at (27.45,28.78)\n",
            "Panel house id=139666461058256  of 5 floors is build at (33.45,34.78)\n",
            "Panel house id=139666461056624  of 1 floors is build at (40.45,41.78)\n",
            "Panel house id=139666461063104  of 4 floors is build at (48.45,49.78)\n",
            "Panel house id=139666461056624  of 1 floors is build at (57.45,58.78)\n",
            "Brick house id=139666461058592 of 4 floors is build at (57.45,58.78)\n",
            "Brick house id=139666461058592 of 4 floors is build at (58.45,59.78)\n",
            "Brick house id=139666461049184 of 5 floors is build at (60.45,61.78)\n",
            "Brick house id=139666461056960 of 3 floors is build at (63.45,64.78)\n",
            "Brick house id=139666461049184 of 5 floors is build at (67.45,68.78)\n",
            "Brick house id=139666461058592 of 4 floors is build at (72.45,73.78)\n",
            "Brick house id=139666461049184 of 5 floors is build at (78.45,79.78)\n",
            "Brick house id=139666461049616 of 1 floors is build at (85.45,86.78)\n",
            "Brick house id=139666461056960 of 3 floors is build at (93.45,94.78)\n",
            "Brick house id=139666461049184 of 5 floors is build at (102.45,103.78)\n"
          ]
        }
      ],
      "source": [
        "# абстрактный класс Дом\n",
        "class House:\n",
        "    # количество этажей - параметр внутреннего состояния\n",
        "    def __init__(self,floors):\n",
        "        self.floors = floors\n",
        "        \n",
        "    def build(self):\n",
        "        pass\n",
        "\n",
        "\"\"\"\n",
        "конкретный класс Панельные дома с внутренней информацией - количеством этажей и способом стройки\n",
        "\"\"\"\n",
        "class PanelHouse(House):\n",
        "\n",
        "    # широта и долгота - параметры внешнего состояния приспособленцев\n",
        "    # выводя ID, убеждаемся, что, если уже есть дом с необходимым количеством этажей, то новый не генерируется\n",
        "    def build(self, longitude, latitude):\n",
        "        print(f'Panel house id={id(self)}  of {self.floors} floors is build at ({longitude},{latitude})')\n",
        "\n",
        "\"\"\"\n",
        "конкретный класс Кирпичные дома с внутренней информацией - количеством этажей и способом стройки\n",
        "\"\"\"\n",
        "class BrickHouse(House):\n",
        "\n",
        "    # широта и долгота - параметры внешнего состояния приспособленцев\n",
        "    # выводя ID, убеждаемся, что, если уже есть дом с необходимым количеством этажей, то новый не генерируется\n",
        "    def build(self, longitude, latitude):\n",
        "        print(f'Brick house id={id(self)} of {self.floors} floors is build at ({longitude},{latitude})')\n",
        "\n",
        "\"\"\"\n",
        "Фабрика приспособленцев.\n",
        "Хранит в себе список уже существующих объектов - приспособленцев (может быть сгенерирован заранее)\n",
        "и по запросу выдает существующий, а не генерит новый объект.\n",
        "\"\"\"\n",
        "class HouseFactory:\n",
        "    houses:dict={}\n",
        "    @staticmethod\n",
        "    def build_id(type,floors):\n",
        "        return type+'_'+str(floors)\n",
        "\n",
        "    @classmethod\n",
        "    def get(cls,house_type,house_floors):\n",
        "        id_house = HouseFactory.build_id(house_type,house_floors)\n",
        "        if id_house not in cls.houses.keys():\n",
        "            cls.houses[id_house] = globals()[house_type](house_floors)\n",
        "        return cls.houses[id_house]\n",
        "\n",
        "\n",
        "from random import randint\n",
        "longtitude = 12.45\n",
        "latitude = 13.78\n",
        "for i in range(10):\n",
        "    longtitude+=i\n",
        "    latitude+=i\n",
        "    new_house = HouseFactory.get('PanelHouse', randint(1,5))\n",
        "    new_house.build(longtitude,latitude)\n",
        "for i in range(10):\n",
        "    longtitude+=i\n",
        "    latitude+=i\n",
        "    new_house = HouseFactory.get('BrickHouse', randint(1,5))\n",
        "    new_house.build(longtitude,latitude)\n"
      ]
    }
  ]
}